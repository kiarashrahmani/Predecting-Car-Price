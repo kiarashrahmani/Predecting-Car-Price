{
  "nbformat": 4,
  "nbformat_minor": 0,
  "metadata": {
    "colab": {
      "provenance": [],
      "gpuType": "T4",
      "authorship_tag": "ABX9TyPi7pI9VTMdwepc3Akn2mMZ",
      "include_colab_link": true
    },
    "kernelspec": {
      "name": "python3",
      "display_name": "Python 3"
    },
    "language_info": {
      "name": "python"
    },
    "accelerator": "GPU"
  },
  "cells": [
    {
      "cell_type": "markdown",
      "metadata": {
        "id": "view-in-github",
        "colab_type": "text"
      },
      "source": [
        "<a href=\"https://colab.research.google.com/github/kiarashrahmani/Predecting-Car-Price/blob/main/Predicting_Car_Price.ipynb\" target=\"_parent\"><img src=\"https://colab.research.google.com/assets/colab-badge.svg\" alt=\"Open In Colab\"/></a>"
      ]
    },
    {
      "cell_type": "markdown",
      "source": [
        "**Download Data**"
      ],
      "metadata": {
        "id": "EjisK2J5aXPb"
      }
    },
    {
      "cell_type": "code",
      "execution_count": 39,
      "metadata": {
        "colab": {
          "base_uri": "https://localhost:8080/"
        },
        "id": "AKahaCpBXY2E",
        "outputId": "8c2d72f3-adf6-45af-80dc-446910a3284c"
      },
      "outputs": [
        {
          "output_type": "stream",
          "name": "stdout",
          "text": [
            "Downloading...\n",
            "From (original): https://drive.google.com/uc?id=1wcMseVXM09RPw07ibj-sKpfilOpJUli_\n",
            "From (redirected): https://drive.google.com/uc?id=1wcMseVXM09RPw07ibj-sKpfilOpJUli_&confirm=t&uuid=de5df005-056f-4596-95a4-7530da82fe40\n",
            "To: /content/divar-car-tehran.rar\n",
            "100% 37.4M/37.4M [00:00<00:00, 64.3MB/s]\n"
          ]
        }
      ],
      "source": [
        "!gdown 1wcMseVXM09RPw07ibj-sKpfilOpJUli_"
      ]
    },
    {
      "cell_type": "code",
      "source": [
        "!unrar x divar-car-tehran.rar"
      ],
      "metadata": {
        "colab": {
          "base_uri": "https://localhost:8080/"
        },
        "id": "o2KdaTrVakoK",
        "outputId": "88bd1814-f653-4a5c-c980-e274dfab4e2f"
      },
      "execution_count": 40,
      "outputs": [
        {
          "output_type": "stream",
          "name": "stdout",
          "text": [
            "\n",
            "UNRAR 6.11 beta 1 freeware      Copyright (c) 1993-2022 Alexander Roshal\n",
            "\n",
            "\n",
            "Extracting from divar-car-tehran.rar\n",
            "\n",
            "\n",
            "Would you like to replace the existing file Extracted Advertisements/Car/Tehran/24346.json\n",
            "  1254 bytes, modified on 2023-04-28 22:54\n",
            "with a new one\n",
            "  1254 bytes, modified on 2023-04-28 22:54\n",
            "\n",
            "[Y]es, [N]o, [A]ll, n[E]ver, [R]ename, [Q]uit \n",
            "User break\n",
            "\n",
            "User break\n"
          ]
        }
      ]
    },
    {
      "cell_type": "code",
      "source": [
        "!cat Extracted\\ Advertisements/Car/Tehran/24346.json"
      ],
      "metadata": {
        "colab": {
          "base_uri": "https://localhost:8080/"
        },
        "id": "_MCgCPtBbLQh",
        "outputId": "a897db1c-3001-45fd-e6cc-5f7365d9ca42"
      },
      "execution_count": 1,
      "outputs": [
        {
          "output_type": "stream",
          "name": "stdout",
          "text": [
            "{\n",
            "    \"Title\": \"پژو 206 SD V8، مدل ۱۳۹۶،بدون رنگ\",\n",
            "    \"Explanations\": \"با سلام ماشین بدون رنگ و ضربه ست‌ به شرط کارشناس شما. موتوری سالم .به نسبت سن و سال خط و خش جزئی دارد.\",\n",
            "    \"LocationCity\": \"Tehran\",\n",
            "    \"LocationExact\": \"ونک\",\n",
            "    \"FetchTimeInEpoch\": 1682722479.9126568,\n",
            "    \"PostTimeRelatedToFetchTime\": \"۳ روز پیش\",\n",
            "    \"Tags\": [\n",
            "        \"سواری و وانت\",\n",
            "        \"سواری و وانت در ونک\"\n",
            "    ],\n",
            "    \"URL\": \"https://divar.ir/v/%D9%BE%DA%98%D9%88-206-sd-v8-%D9%85%D8%AF%D9%84-%DB%B1%DB%B3%DB%B9%DB%B6-%D8%A8%D8%AF%D9%88%D9%86-%D8%B1%D9%86%DA%AF_%D8%B3%D9%88%D8%A7%D8%B1%DB%8C-%D9%88-%D9%88%D8%A7%D9%86%D8%AA_%D8%AA%D9%87%D8%B1%D8%A7%D9%86_%D9%88%D9%86%DA%A9_%D8%AF%DB%8C%D9%88%D8%A7%D8%B1/AZHtmaYV\",\n",
            "    \"Color\": \"سفید\",\n",
            "    \"YearOfConstruction\": \"۱۳۹۶\",\n",
            "    \"LifeSpan\": \"۱۲۱٬۰۰۰\",\n",
            "    \"Fuel\": \"بنزینی\",\n",
            "    \"EngineCondition\": \"سالم\",\n",
            "    \"ChassisCondition\": \"سالم و پلمپ\",\n",
            "    \"BodyCondition\": \"سالم و بی‌خط و خش\",\n",
            "    \"InsuranceDeadline\": \"۴ ماه\",\n",
            "    \"Gearbox\": \"دنده‌ای\",\n",
            "    \"Price\": \"۵۱۰٬۰۰۰٬۰۰۰ تومان\",\n",
            "    \"Brand\": \"پژو 206 SD V8\"\n",
            "}"
          ]
        }
      ]
    },
    {
      "cell_type": "code",
      "source": [
        "import os\n",
        "import json\n",
        "\n",
        "items=[]\n",
        "\n",
        "for file_name in os.listdir('Extracted Advertisements/Car/Tehran'):\n",
        "  with open(f'Extracted Advertisements/Car/Tehran/{file_name}', 'r') as file:\n",
        "    item = json.load(file)\n",
        "  items.append(item)\n",
        "  if len(items)%10000 == 0:\n",
        "    print(f'{len(items)} items loaded.')\n",
        "\n",
        "print(f'load complete with {len(items)} items.')"
      ],
      "metadata": {
        "colab": {
          "base_uri": "https://localhost:8080/"
        },
        "id": "SKOJ33NSbRip",
        "outputId": "eccceca8-d61a-4b53-b6b4-d4da4f061ffb"
      },
      "execution_count": 2,
      "outputs": [
        {
          "output_type": "stream",
          "name": "stdout",
          "text": [
            "10000 items loaded.\n",
            "20000 items loaded.\n",
            "30000 items loaded.\n",
            "40000 items loaded.\n",
            "load complete with 45527 items.\n"
          ]
        }
      ]
    },
    {
      "cell_type": "code",
      "source": [
        "import pandas as pd\n",
        "\n",
        "df = pd.DataFrame(items)\n",
        "df.head()"
      ],
      "metadata": {
        "colab": {
          "base_uri": "https://localhost:8080/",
          "height": 608
        },
        "id": "S-czawi0bV45",
        "outputId": "9bae7dd8-540a-4862-cbde-38fe633a170e"
      },
      "execution_count": 3,
      "outputs": [
        {
          "output_type": "execute_result",
          "data": {
            "text/plain": [
              "                                  Title  \\\n",
              "0                    دنا پلاس، مدل ۱۴۰۲   \n",
              "1           تیبا صندوق‌دار EX، مدل ۱۳۹۹   \n",
              "2                   خودرو سوزوکی ویتارا   \n",
              "3  دیگنیتی پرایم مشکی تو مارون صفر ۱۴۰۱   \n",
              "4               ام‌ وی‌ ام 315 مدل ۱۳۹۳   \n",
              "\n",
              "                                        Explanations LocationCity  \\\n",
              "0  کروز کنترل\\nمولتی مدیا\\nآینه تاشو برقی\\nصندلی ...       Tehran   \n",
              "1  گلگیر عقب صافکاری بدون رنگ در آوردم در صندوق ی...       Tehran   \n",
              "2  خودرو بسیار استثنایی … در حد صفر… مانیتور اندر...       Tehran   \n",
              "3  دیگنیتی پرایم مشکی تو مارون\\nموجود در نمایشگاه...       Tehran   \n",
              "4  سلام\\nماشین موتوری سالم\\nمانیتور اندروید به ار...       Tehran   \n",
              "\n",
              "  LocationExact  FetchTimeInEpoch PostTimeRelatedToFetchTime  \\\n",
              "0      تهران‌سر      1.682741e+09                  ۵ روز پیش   \n",
              "1          نواب      1.682692e+09                ۲۳ ساعت پیش   \n",
              "2        قیطریه      1.682720e+09                  ۳ روز پیش   \n",
              "3        حشمتیه      1.682709e+09                  ۲ روز پیش   \n",
              "4       سهروردی      1.682695e+09                  ۱ روز پیش   \n",
              "\n",
              "                                       Tags  \\\n",
              "0  [سواری و وانت, سواری و وانت در تهران‌سر]   \n",
              "1      [سواری و وانت, سواری و وانت در نواب]   \n",
              "2    [سواری و وانت, سواری و وانت در قیطریه]   \n",
              "3    [سواری و وانت, سواری و وانت در حشمتیه]   \n",
              "4   [سواری و وانت, سواری و وانت در سهروردی]   \n",
              "\n",
              "                                                 URL    Color  \\\n",
              "0  https://divar.ir/v/%D8%AF%D9%86%D8%A7-%D9%BE%D...     سفید   \n",
              "1  https://divar.ir/v/%D8%AA%DB%8C%D8%A8%D8%A7-%D...     سفید   \n",
              "2  https://divar.ir/v/%D8%AE%D9%88%D8%AF%D8%B1%D9...  نقره‌ای   \n",
              "3  https://divar.ir/v/%D8%AF%DB%8C%DA%AF%D9%86%DB...     مشکی   \n",
              "4  https://divar.ir/v/%D8%A7%D9%85-%D9%88%DB%8C-%...  قهوه‌ای   \n",
              "\n",
              "  YearOfConstruction LifeSpan    Fuel EngineCondition ChassisCondition  \\\n",
              "0               ۱۴۰۲        ۰  بنزینی            سالم      سالم و پلمپ   \n",
              "1               ۱۳۹۹   ۳۶٬۰۰۰  بنزینی            سالم      سالم و پلمپ   \n",
              "2               ۱۳۸۷  ۱۹۲٬۰۰۰     NaN            سالم      سالم و پلمپ   \n",
              "3               ۱۴۰۱        ۰     NaN             NaN              NaN   \n",
              "4               ۱۳۹۳  ۱۸۰٬۰۰۰     NaN            سالم      سالم و پلمپ   \n",
              "\n",
              "       BodyCondition InsuranceDeadline  Gearbox                Price  \\\n",
              "0  سالم و بی‌خط و خش            ۱۲ ماه  دنده‌ای    ۸۲۰٬۰۰۰٬۰۰۰ تومان   \n",
              "1       خط و خش جزیی             ۴ ماه  دنده‌ای    ۳۴۷٬۰۰۰٬۰۰۰ تومان   \n",
              "2           رنگ‌شدگی            ۱۲ ماه      NaN  ۱٬۲۵۰٬۰۰۰٬۰۰۰ تومان   \n",
              "3  سالم و بی‌خط و خش               NaN      NaN     ۱۰٬۰۰۰٬۰۰۰ تومان   \n",
              "4           رنگ‌شدگی             ۱ ماه  دنده‌ای    ۳۵۸٬۰۰۰٬۰۰۰ تومان   \n",
              "\n",
              "                                      Brand InstallmentInformation  \n",
              "0                                  دنا پلاس                    NaN  \n",
              "1                         تیبا صندوق‌دار EX                    NaN  \n",
              "2  سوزوکی گرند ویتارا مونتاژ دنده‌ای 2000cc                    NaN  \n",
              "3                                   دیگنیتی                    NaN  \n",
              "4               ام‌وی‌ام 315 صندوق‌دار ساده                    NaN  "
            ],
            "text/html": [
              "\n",
              "  <div id=\"df-a3c93da7-7177-48b2-8975-625575ab10d0\" class=\"colab-df-container\">\n",
              "    <div>\n",
              "<style scoped>\n",
              "    .dataframe tbody tr th:only-of-type {\n",
              "        vertical-align: middle;\n",
              "    }\n",
              "\n",
              "    .dataframe tbody tr th {\n",
              "        vertical-align: top;\n",
              "    }\n",
              "\n",
              "    .dataframe thead th {\n",
              "        text-align: right;\n",
              "    }\n",
              "</style>\n",
              "<table border=\"1\" class=\"dataframe\">\n",
              "  <thead>\n",
              "    <tr style=\"text-align: right;\">\n",
              "      <th></th>\n",
              "      <th>Title</th>\n",
              "      <th>Explanations</th>\n",
              "      <th>LocationCity</th>\n",
              "      <th>LocationExact</th>\n",
              "      <th>FetchTimeInEpoch</th>\n",
              "      <th>PostTimeRelatedToFetchTime</th>\n",
              "      <th>Tags</th>\n",
              "      <th>URL</th>\n",
              "      <th>Color</th>\n",
              "      <th>YearOfConstruction</th>\n",
              "      <th>LifeSpan</th>\n",
              "      <th>Fuel</th>\n",
              "      <th>EngineCondition</th>\n",
              "      <th>ChassisCondition</th>\n",
              "      <th>BodyCondition</th>\n",
              "      <th>InsuranceDeadline</th>\n",
              "      <th>Gearbox</th>\n",
              "      <th>Price</th>\n",
              "      <th>Brand</th>\n",
              "      <th>InstallmentInformation</th>\n",
              "    </tr>\n",
              "  </thead>\n",
              "  <tbody>\n",
              "    <tr>\n",
              "      <th>0</th>\n",
              "      <td>دنا پلاس، مدل ۱۴۰۲</td>\n",
              "      <td>کروز کنترل\\nمولتی مدیا\\nآینه تاشو برقی\\nصندلی ...</td>\n",
              "      <td>Tehran</td>\n",
              "      <td>تهران‌سر</td>\n",
              "      <td>1.682741e+09</td>\n",
              "      <td>۵ روز پیش</td>\n",
              "      <td>[سواری و وانت, سواری و وانت در تهران‌سر]</td>\n",
              "      <td>https://divar.ir/v/%D8%AF%D9%86%D8%A7-%D9%BE%D...</td>\n",
              "      <td>سفید</td>\n",
              "      <td>۱۴۰۲</td>\n",
              "      <td>۰</td>\n",
              "      <td>بنزینی</td>\n",
              "      <td>سالم</td>\n",
              "      <td>سالم و پلمپ</td>\n",
              "      <td>سالم و بی‌خط و خش</td>\n",
              "      <td>۱۲ ماه</td>\n",
              "      <td>دنده‌ای</td>\n",
              "      <td>۸۲۰٬۰۰۰٬۰۰۰ تومان</td>\n",
              "      <td>دنا پلاس</td>\n",
              "      <td>NaN</td>\n",
              "    </tr>\n",
              "    <tr>\n",
              "      <th>1</th>\n",
              "      <td>تیبا صندوق‌دار EX، مدل ۱۳۹۹</td>\n",
              "      <td>گلگیر عقب صافکاری بدون رنگ در آوردم در صندوق ی...</td>\n",
              "      <td>Tehran</td>\n",
              "      <td>نواب</td>\n",
              "      <td>1.682692e+09</td>\n",
              "      <td>۲۳ ساعت پیش</td>\n",
              "      <td>[سواری و وانت, سواری و وانت در نواب]</td>\n",
              "      <td>https://divar.ir/v/%D8%AA%DB%8C%D8%A8%D8%A7-%D...</td>\n",
              "      <td>سفید</td>\n",
              "      <td>۱۳۹۹</td>\n",
              "      <td>۳۶٬۰۰۰</td>\n",
              "      <td>بنزینی</td>\n",
              "      <td>سالم</td>\n",
              "      <td>سالم و پلمپ</td>\n",
              "      <td>خط و خش جزیی</td>\n",
              "      <td>۴ ماه</td>\n",
              "      <td>دنده‌ای</td>\n",
              "      <td>۳۴۷٬۰۰۰٬۰۰۰ تومان</td>\n",
              "      <td>تیبا صندوق‌دار EX</td>\n",
              "      <td>NaN</td>\n",
              "    </tr>\n",
              "    <tr>\n",
              "      <th>2</th>\n",
              "      <td>خودرو سوزوکی ویتارا</td>\n",
              "      <td>خودرو بسیار استثنایی … در حد صفر… مانیتور اندر...</td>\n",
              "      <td>Tehran</td>\n",
              "      <td>قیطریه</td>\n",
              "      <td>1.682720e+09</td>\n",
              "      <td>۳ روز پیش</td>\n",
              "      <td>[سواری و وانت, سواری و وانت در قیطریه]</td>\n",
              "      <td>https://divar.ir/v/%D8%AE%D9%88%D8%AF%D8%B1%D9...</td>\n",
              "      <td>نقره‌ای</td>\n",
              "      <td>۱۳۸۷</td>\n",
              "      <td>۱۹۲٬۰۰۰</td>\n",
              "      <td>NaN</td>\n",
              "      <td>سالم</td>\n",
              "      <td>سالم و پلمپ</td>\n",
              "      <td>رنگ‌شدگی</td>\n",
              "      <td>۱۲ ماه</td>\n",
              "      <td>NaN</td>\n",
              "      <td>۱٬۲۵۰٬۰۰۰٬۰۰۰ تومان</td>\n",
              "      <td>سوزوکی گرند ویتارا مونتاژ دنده‌ای 2000cc</td>\n",
              "      <td>NaN</td>\n",
              "    </tr>\n",
              "    <tr>\n",
              "      <th>3</th>\n",
              "      <td>دیگنیتی پرایم مشکی تو مارون صفر ۱۴۰۱</td>\n",
              "      <td>دیگنیتی پرایم مشکی تو مارون\\nموجود در نمایشگاه...</td>\n",
              "      <td>Tehran</td>\n",
              "      <td>حشمتیه</td>\n",
              "      <td>1.682709e+09</td>\n",
              "      <td>۲ روز پیش</td>\n",
              "      <td>[سواری و وانت, سواری و وانت در حشمتیه]</td>\n",
              "      <td>https://divar.ir/v/%D8%AF%DB%8C%DA%AF%D9%86%DB...</td>\n",
              "      <td>مشکی</td>\n",
              "      <td>۱۴۰۱</td>\n",
              "      <td>۰</td>\n",
              "      <td>NaN</td>\n",
              "      <td>NaN</td>\n",
              "      <td>NaN</td>\n",
              "      <td>سالم و بی‌خط و خش</td>\n",
              "      <td>NaN</td>\n",
              "      <td>NaN</td>\n",
              "      <td>۱۰٬۰۰۰٬۰۰۰ تومان</td>\n",
              "      <td>دیگنیتی</td>\n",
              "      <td>NaN</td>\n",
              "    </tr>\n",
              "    <tr>\n",
              "      <th>4</th>\n",
              "      <td>ام‌ وی‌ ام 315 مدل ۱۳۹۳</td>\n",
              "      <td>سلام\\nماشین موتوری سالم\\nمانیتور اندروید به ار...</td>\n",
              "      <td>Tehran</td>\n",
              "      <td>سهروردی</td>\n",
              "      <td>1.682695e+09</td>\n",
              "      <td>۱ روز پیش</td>\n",
              "      <td>[سواری و وانت, سواری و وانت در سهروردی]</td>\n",
              "      <td>https://divar.ir/v/%D8%A7%D9%85-%D9%88%DB%8C-%...</td>\n",
              "      <td>قهوه‌ای</td>\n",
              "      <td>۱۳۹۳</td>\n",
              "      <td>۱۸۰٬۰۰۰</td>\n",
              "      <td>NaN</td>\n",
              "      <td>سالم</td>\n",
              "      <td>سالم و پلمپ</td>\n",
              "      <td>رنگ‌شدگی</td>\n",
              "      <td>۱ ماه</td>\n",
              "      <td>دنده‌ای</td>\n",
              "      <td>۳۵۸٬۰۰۰٬۰۰۰ تومان</td>\n",
              "      <td>ام‌وی‌ام 315 صندوق‌دار ساده</td>\n",
              "      <td>NaN</td>\n",
              "    </tr>\n",
              "  </tbody>\n",
              "</table>\n",
              "</div>\n",
              "    <div class=\"colab-df-buttons\">\n",
              "\n",
              "  <div class=\"colab-df-container\">\n",
              "    <button class=\"colab-df-convert\" onclick=\"convertToInteractive('df-a3c93da7-7177-48b2-8975-625575ab10d0')\"\n",
              "            title=\"Convert this dataframe to an interactive table.\"\n",
              "            style=\"display:none;\">\n",
              "\n",
              "  <svg xmlns=\"http://www.w3.org/2000/svg\" height=\"24px\" viewBox=\"0 -960 960 960\">\n",
              "    <path d=\"M120-120v-720h720v720H120Zm60-500h600v-160H180v160Zm220 220h160v-160H400v160Zm0 220h160v-160H400v160ZM180-400h160v-160H180v160Zm440 0h160v-160H620v160ZM180-180h160v-160H180v160Zm440 0h160v-160H620v160Z\"/>\n",
              "  </svg>\n",
              "    </button>\n",
              "\n",
              "  <style>\n",
              "    .colab-df-container {\n",
              "      display:flex;\n",
              "      gap: 12px;\n",
              "    }\n",
              "\n",
              "    .colab-df-convert {\n",
              "      background-color: #E8F0FE;\n",
              "      border: none;\n",
              "      border-radius: 50%;\n",
              "      cursor: pointer;\n",
              "      display: none;\n",
              "      fill: #1967D2;\n",
              "      height: 32px;\n",
              "      padding: 0 0 0 0;\n",
              "      width: 32px;\n",
              "    }\n",
              "\n",
              "    .colab-df-convert:hover {\n",
              "      background-color: #E2EBFA;\n",
              "      box-shadow: 0px 1px 2px rgba(60, 64, 67, 0.3), 0px 1px 3px 1px rgba(60, 64, 67, 0.15);\n",
              "      fill: #174EA6;\n",
              "    }\n",
              "\n",
              "    .colab-df-buttons div {\n",
              "      margin-bottom: 4px;\n",
              "    }\n",
              "\n",
              "    [theme=dark] .colab-df-convert {\n",
              "      background-color: #3B4455;\n",
              "      fill: #D2E3FC;\n",
              "    }\n",
              "\n",
              "    [theme=dark] .colab-df-convert:hover {\n",
              "      background-color: #434B5C;\n",
              "      box-shadow: 0px 1px 3px 1px rgba(0, 0, 0, 0.15);\n",
              "      filter: drop-shadow(0px 1px 2px rgba(0, 0, 0, 0.3));\n",
              "      fill: #FFFFFF;\n",
              "    }\n",
              "  </style>\n",
              "\n",
              "    <script>\n",
              "      const buttonEl =\n",
              "        document.querySelector('#df-a3c93da7-7177-48b2-8975-625575ab10d0 button.colab-df-convert');\n",
              "      buttonEl.style.display =\n",
              "        google.colab.kernel.accessAllowed ? 'block' : 'none';\n",
              "\n",
              "      async function convertToInteractive(key) {\n",
              "        const element = document.querySelector('#df-a3c93da7-7177-48b2-8975-625575ab10d0');\n",
              "        const dataTable =\n",
              "          await google.colab.kernel.invokeFunction('convertToInteractive',\n",
              "                                                    [key], {});\n",
              "        if (!dataTable) return;\n",
              "\n",
              "        const docLinkHtml = 'Like what you see? Visit the ' +\n",
              "          '<a target=\"_blank\" href=https://colab.research.google.com/notebooks/data_table.ipynb>data table notebook</a>'\n",
              "          + ' to learn more about interactive tables.';\n",
              "        element.innerHTML = '';\n",
              "        dataTable['output_type'] = 'display_data';\n",
              "        await google.colab.output.renderOutput(dataTable, element);\n",
              "        const docLink = document.createElement('div');\n",
              "        docLink.innerHTML = docLinkHtml;\n",
              "        element.appendChild(docLink);\n",
              "      }\n",
              "    </script>\n",
              "  </div>\n",
              "\n",
              "\n",
              "<div id=\"df-32cedb12-8d7c-4c06-9d03-833e12799354\">\n",
              "  <button class=\"colab-df-quickchart\" onclick=\"quickchart('df-32cedb12-8d7c-4c06-9d03-833e12799354')\"\n",
              "            title=\"Suggest charts\"\n",
              "            style=\"display:none;\">\n",
              "\n",
              "<svg xmlns=\"http://www.w3.org/2000/svg\" height=\"24px\"viewBox=\"0 0 24 24\"\n",
              "     width=\"24px\">\n",
              "    <g>\n",
              "        <path d=\"M19 3H5c-1.1 0-2 .9-2 2v14c0 1.1.9 2 2 2h14c1.1 0 2-.9 2-2V5c0-1.1-.9-2-2-2zM9 17H7v-7h2v7zm4 0h-2V7h2v10zm4 0h-2v-4h2v4z\"/>\n",
              "    </g>\n",
              "</svg>\n",
              "  </button>\n",
              "\n",
              "<style>\n",
              "  .colab-df-quickchart {\n",
              "      --bg-color: #E8F0FE;\n",
              "      --fill-color: #1967D2;\n",
              "      --hover-bg-color: #E2EBFA;\n",
              "      --hover-fill-color: #174EA6;\n",
              "      --disabled-fill-color: #AAA;\n",
              "      --disabled-bg-color: #DDD;\n",
              "  }\n",
              "\n",
              "  [theme=dark] .colab-df-quickchart {\n",
              "      --bg-color: #3B4455;\n",
              "      --fill-color: #D2E3FC;\n",
              "      --hover-bg-color: #434B5C;\n",
              "      --hover-fill-color: #FFFFFF;\n",
              "      --disabled-bg-color: #3B4455;\n",
              "      --disabled-fill-color: #666;\n",
              "  }\n",
              "\n",
              "  .colab-df-quickchart {\n",
              "    background-color: var(--bg-color);\n",
              "    border: none;\n",
              "    border-radius: 50%;\n",
              "    cursor: pointer;\n",
              "    display: none;\n",
              "    fill: var(--fill-color);\n",
              "    height: 32px;\n",
              "    padding: 0;\n",
              "    width: 32px;\n",
              "  }\n",
              "\n",
              "  .colab-df-quickchart:hover {\n",
              "    background-color: var(--hover-bg-color);\n",
              "    box-shadow: 0 1px 2px rgba(60, 64, 67, 0.3), 0 1px 3px 1px rgba(60, 64, 67, 0.15);\n",
              "    fill: var(--button-hover-fill-color);\n",
              "  }\n",
              "\n",
              "  .colab-df-quickchart-complete:disabled,\n",
              "  .colab-df-quickchart-complete:disabled:hover {\n",
              "    background-color: var(--disabled-bg-color);\n",
              "    fill: var(--disabled-fill-color);\n",
              "    box-shadow: none;\n",
              "  }\n",
              "\n",
              "  .colab-df-spinner {\n",
              "    border: 2px solid var(--fill-color);\n",
              "    border-color: transparent;\n",
              "    border-bottom-color: var(--fill-color);\n",
              "    animation:\n",
              "      spin 1s steps(1) infinite;\n",
              "  }\n",
              "\n",
              "  @keyframes spin {\n",
              "    0% {\n",
              "      border-color: transparent;\n",
              "      border-bottom-color: var(--fill-color);\n",
              "      border-left-color: var(--fill-color);\n",
              "    }\n",
              "    20% {\n",
              "      border-color: transparent;\n",
              "      border-left-color: var(--fill-color);\n",
              "      border-top-color: var(--fill-color);\n",
              "    }\n",
              "    30% {\n",
              "      border-color: transparent;\n",
              "      border-left-color: var(--fill-color);\n",
              "      border-top-color: var(--fill-color);\n",
              "      border-right-color: var(--fill-color);\n",
              "    }\n",
              "    40% {\n",
              "      border-color: transparent;\n",
              "      border-right-color: var(--fill-color);\n",
              "      border-top-color: var(--fill-color);\n",
              "    }\n",
              "    60% {\n",
              "      border-color: transparent;\n",
              "      border-right-color: var(--fill-color);\n",
              "    }\n",
              "    80% {\n",
              "      border-color: transparent;\n",
              "      border-right-color: var(--fill-color);\n",
              "      border-bottom-color: var(--fill-color);\n",
              "    }\n",
              "    90% {\n",
              "      border-color: transparent;\n",
              "      border-bottom-color: var(--fill-color);\n",
              "    }\n",
              "  }\n",
              "</style>\n",
              "\n",
              "  <script>\n",
              "    async function quickchart(key) {\n",
              "      const quickchartButtonEl =\n",
              "        document.querySelector('#' + key + ' button');\n",
              "      quickchartButtonEl.disabled = true;  // To prevent multiple clicks.\n",
              "      quickchartButtonEl.classList.add('colab-df-spinner');\n",
              "      try {\n",
              "        const charts = await google.colab.kernel.invokeFunction(\n",
              "            'suggestCharts', [key], {});\n",
              "      } catch (error) {\n",
              "        console.error('Error during call to suggestCharts:', error);\n",
              "      }\n",
              "      quickchartButtonEl.classList.remove('colab-df-spinner');\n",
              "      quickchartButtonEl.classList.add('colab-df-quickchart-complete');\n",
              "    }\n",
              "    (() => {\n",
              "      let quickchartButtonEl =\n",
              "        document.querySelector('#df-32cedb12-8d7c-4c06-9d03-833e12799354 button');\n",
              "      quickchartButtonEl.style.display =\n",
              "        google.colab.kernel.accessAllowed ? 'block' : 'none';\n",
              "    })();\n",
              "  </script>\n",
              "</div>\n",
              "    </div>\n",
              "  </div>\n"
            ],
            "application/vnd.google.colaboratory.intrinsic+json": {
              "type": "dataframe",
              "variable_name": "df",
              "summary": "{\n  \"name\": \"df\",\n  \"rows\": 45527,\n  \"fields\": [\n    {\n      \"column\": \"Title\",\n      \"properties\": {\n        \"dtype\": \"string\",\n        \"num_unique_values\": 25513,\n        \"samples\": [\n          \"\\u0647\\u06cc\\u0648\\u0646\\u062f\\u0627 \\u0627\\u0644\\u0646\\u062a\\u0631\\u0627 2015 \\u0641\\u0648\\u0644 \\u0648\\u0627\\u0631\\u062f\\u0627\\u062a\",\n          \"\\u067e\\u0698\\u0648 405 \\u062f\\u0648\\u06af\\u0627\\u0646\\u0647 \\u0633\\u0648\\u0632 GLX - TU5\\u060c \\u0645\\u062f\\u0644 \\u06f1\\u06f4\\u06f0\\u06f0\",\n          \"\\u062a\\u0627\\u0631\\u0627 \\u0627\\u062a\\u0648\\u0645\\u0627\\u062a\\u06cc\\u06a9 *\\u0635\\u0641\\u0631 \\u06f4\\u06f0\\u06f2*\\u0645\\u0634\\u06a9\\u06cc\"\n        ],\n        \"semantic_type\": \"\",\n        \"description\": \"\"\n      }\n    },\n    {\n      \"column\": \"Explanations\",\n      \"properties\": {\n        \"dtype\": \"string\",\n        \"num_unique_values\": 43163,\n        \"samples\": [\n          \"\\u0641\\u0631\\u0645\\u0627\\u0646 \\u0647\\u06cc\\u062f\\u0631\\u0648\\u0644\\u06cc\\u06a9 \\u0645\\u0639\\u0627\\u06cc\\u0646\\u0647 \\u0641\\u0646\\u06cc \\u06cc\\u06a9\\u0633\\u0627\\u0644/\\u0631\\u0648\\u06a9\\u0634 \\u062f\\u0632\\u062f\\u06af\\u06cc\\u0631 \\u0636\\u0628\\u0637 \\u0641\\u0644\\u0634 \\u062e\\u0648\\u0631 \\u0628\\u0627\\u0646\\u062f \\u06a9\\u0641\\u06cc \\u06cc\\u06a9 \\u062a\\u06a9\\u0647 \\u06a9\\u0641\\u06cc \\u06f3\\u200c\\u0628\\u0639\\u062f\\u06cc \\u0686\\u0647\\u0627\\u0631\\u062d\\u0644\\u0642\\u0647 \\u0644\\u0627\\u0633\\u062a\\u06cc\\u06a9 \\u0646\\u0648 \\u06a9\\u0648\\u0644\\u0631 \\u0631\\u0648\\u0634\\u0646 \\u0642\\u06cc\\u0645\\u062a \\u0645\\u0642\\u0637\\u0648\\u0639\",\n          \"* \\u0642\\u06cc\\u0645\\u062a \\u062a\\u0648\\u0627\\u0641\\u0642\\u06cc *\\n\\u0633\\u0631\\u0627\\u062a\\u0648 \\u06f2\\u06f0\\u06f1\\u06f3 \\u0641\\u0648\\u0644 \\u0639\\u0645\\u0627\\u0646 \\u0648\\u0627\\u0631\\u062f\\u0627\\u062a\\u06cc\\n\\u0627\\u0637\\u0644\\u0633 \\u062e\\u0648\\u062f\\u0631\\u0648\\n\\u06f1\\u06f0 \\u0627\\u06cc\\u0631\\u0628\\u06af\\n\\u0628\\u062f\\u0648\\u0646 \\u0631\\u0646\\u06af(\\u06cc\\u0647 \\u0642\\u0633\\u0645\\u062a \\u0637\\u0648\\u0642\\u0647 \\u06af\\u0644\\u06af\\u06cc\\u0631 \\u0639\\u0642\\u0628) \\u0628\\u0631\\u06af\\u0647 \\u06a9\\u0627\\u0631\\u0634\\u0646\\u0627\\u0633\\u06cc \\u0639\\u0628\\u0627\\u062f\\u06cc \\u0645\\u0648\\u062c\\u0648\\u062f\\n\\u067e\\u062f\\u0627\\u0644 \\u0634\\u06cc\\u0641\\u062a\\u0631\\n \\u0641\\u0631\\u0645\\u0627\\u0646\\u060c \\u0635\\u0646\\u062f\\u0644\\u06cc\\u060c \\u0631\\u0648\\u062f\\u0631\\u06cc \\u0647\\u0627 \\u0686\\u0631\\u0645\\u06cc \\u0645\\u0634\\u06a9\\u06cc \\u062f\\u0648\\u062e\\u062a \\u0642\\u0631\\u0645\\u0632 \\n\\u067e\\u062f\\u0627\\u0644\\u0647\\u0627 \\u0627\\u0633\\u067e\\u0631\\u062a \\u0627\\u0633\\u062a\\u06cc\\u0644 \\n\\u0686\\u0647\\u0627\\u0631 \\u0686\\u0631\\u062e \\u062f\\u06cc\\u0633\\u06a9\\n\\u0631\\u06cc\\u0646\\u06af \\u06f1\\u06f7 \\u0641\\u0627\\u0628\\u0631\\u06cc\\u06a9 (\\u0627\\u067e\\u062a\\u06cc\\u0645\\u0627\\u06cc\\u06cc)\\n\\u06f4 \\u062d\\u0644\\u0642\\u0647 \\u0644\\u0627\\u0633\\u062a\\u06cc\\u06a9 \\u06f8\\u06f0\\u066a \\u06a9\\u0648\\u0645\\u0647\\u0648\\n\\u06f1\\u06f4\\u06f8 \\u0647\\u0632\\u0627\\u0631 \\u06a9\\u06cc\\u0644\\u0648\\u0645\\u062a\\u0631 \\u06a9\\u0627\\u0631\\u06a9\\u0631\\u062f \\u0648\\u0627\\u0642\\u0639\\u06cc\\n\\u062f\\u06cc \\u0644\\u0627\\u06cc\\u062a \\u0641\\u0627\\u0628\\u0631\\u06cc\\u06a9\\n\\u0633\\u0646\\u0633\\u0648\\u0631 \\u0648 \\u0645\\u0627\\u0646\\u06cc\\u062a\\u0648\\u0631 \\u062f\\u0646\\u062f\\u0647 \\u0639\\u0642\\u0628 \\u0641\\u0627\\u0628\\u0631\\u06cc\\u06a9(\\u062f\\u0627\\u062e\\u0644 \\u0622\\u06cc\\u0646\\u0647) \\n\\u0622\\u06cc\\u0646\\u0647 \\u0627\\u0644\\u06a9\\u062a\\u0631\\u0648\\u06a9\\u0631\\u0648\\u0645\\u06cc\\u06a9\",\n          \"\\u0633\\u0627\\u0646\\u0631\\u0648\\u0641 .\\u06a9\\u0631\\u0648\\u0632....\\u062a\\u0645\\u06cc\\u0632 \\u062e\\u0627\\u0646\\u06af\\u06cc \\u062f\\u0631\\u0635\\u0648\\u0631\\u062a \\u0645\\u0639\\u0627\\u0648\\u0636\\u0647 \\u0641\\u0642\\u0637 \\u0628\\u0627 \\u062f\\u0646\\u0627 \\u067e\\u0644\\u0627\\u0633 \\u0627\\u062a\\u0648\\u0645\\u0627\\u062a 401\\u06cc\\u0627402\"\n        ],\n        \"semantic_type\": \"\",\n        \"description\": \"\"\n      }\n    },\n    {\n      \"column\": \"LocationCity\",\n      \"properties\": {\n        \"dtype\": \"category\",\n        \"num_unique_values\": 1,\n        \"samples\": [\n          \"Tehran\"\n        ],\n        \"semantic_type\": \"\",\n        \"description\": \"\"\n      }\n    },\n    {\n      \"column\": \"LocationExact\",\n      \"properties\": {\n        \"dtype\": \"category\",\n        \"num_unique_values\": 347,\n        \"samples\": [\n          \"\\u0628\\u0647\\u062c\\u062a\\u200c\\u0622\\u0628\\u0627\\u062f\"\n        ],\n        \"semantic_type\": \"\",\n        \"description\": \"\"\n      }\n    },\n    {\n      \"column\": \"FetchTimeInEpoch\",\n      \"properties\": {\n        \"dtype\": \"number\",\n        \"std\": 22004.10689615538,\n        \"min\": 1682682094.4055293,\n        \"max\": 1682769540.3939965,\n        \"num_unique_values\": 45527,\n        \"samples\": [\n          1682726528.5698237\n        ],\n        \"semantic_type\": \"\",\n        \"description\": \"\"\n      }\n    },\n    {\n      \"column\": \"PostTimeRelatedToFetchTime\",\n      \"properties\": {\n        \"dtype\": \"category\",\n        \"num_unique_values\": 34,\n        \"samples\": [\n          \"\\u06f2\\u06f0 \\u0633\\u0627\\u0639\\u062a \\u067e\\u06cc\\u0634\"\n        ],\n        \"semantic_type\": \"\",\n        \"description\": \"\"\n      }\n    },\n    {\n      \"column\": \"Tags\",\n      \"properties\": {\n        \"dtype\": \"object\",\n        \"semantic_type\": \"\",\n        \"description\": \"\"\n      }\n    },\n    {\n      \"column\": \"URL\",\n      \"properties\": {\n        \"dtype\": \"string\",\n        \"num_unique_values\": 45527,\n        \"samples\": [\n          \"https://divar.ir/v/%D9%BE%D8%B1%D8%B4%DB%8C%D8%A7-%D9%85%D8%AF%D9%84-%DB%B9%DB%B6_%D8%B3%D9%88%D8%A7%D8%B1%DB%8C-%D9%88-%D9%88%D8%A7%D9%86%D8%AA_%D8%AA%D9%87%D8%B1%D8%A7%D9%86_%D9%86%D8%A7%D8%B2%DB%8C-%D8%A2%D8%A8%D8%A7%D8%AF_%D8%AF%DB%8C%D9%88%D8%A7%D8%B1/AZHhXcq3\"\n        ],\n        \"semantic_type\": \"\",\n        \"description\": \"\"\n      }\n    },\n    {\n      \"column\": \"Color\",\n      \"properties\": {\n        \"dtype\": \"category\",\n        \"num_unique_values\": 38,\n        \"samples\": [\n          \"\\u0639\\u0646\\u0627\\u0628\\u06cc\"\n        ],\n        \"semantic_type\": \"\",\n        \"description\": \"\"\n      }\n    },\n    {\n      \"column\": \"YearOfConstruction\",\n      \"properties\": {\n        \"dtype\": \"category\",\n        \"num_unique_values\": 73,\n        \"samples\": [\n          \"\\u06f1\\u06f3\\u06f9\\u06f3\"\n        ],\n        \"semantic_type\": \"\",\n        \"description\": \"\"\n      }\n    },\n    {\n      \"column\": \"LifeSpan\",\n      \"properties\": {\n        \"dtype\": \"category\",\n        \"num_unique_values\": 2304,\n        \"samples\": [\n          \"\\u06f1\\u06f3\\u06f8\\u066c\\u06f8\\u06f8\\u06f5\"\n        ],\n        \"semantic_type\": \"\",\n        \"description\": \"\"\n      }\n    },\n    {\n      \"column\": \"Fuel\",\n      \"properties\": {\n        \"dtype\": \"category\",\n        \"num_unique_values\": 4,\n        \"samples\": [\n          \"\\u062f\\u0648\\u06af\\u0627\\u0646\\u0647\\u200c\\u0633\\u0648\\u0632 \\u062f\\u0633\\u062a\\u06cc\"\n        ],\n        \"semantic_type\": \"\",\n        \"description\": \"\"\n      }\n    },\n    {\n      \"column\": \"EngineCondition\",\n      \"properties\": {\n        \"dtype\": \"category\",\n        \"num_unique_values\": 3,\n        \"samples\": [\n          \"\\u0633\\u0627\\u0644\\u0645\"\n        ],\n        \"semantic_type\": \"\",\n        \"description\": \"\"\n      }\n    },\n    {\n      \"column\": \"ChassisCondition\",\n      \"properties\": {\n        \"dtype\": \"category\",\n        \"num_unique_values\": 3,\n        \"samples\": [\n          \"\\u0633\\u0627\\u0644\\u0645 \\u0648 \\u067e\\u0644\\u0645\\u067e\"\n        ],\n        \"semantic_type\": \"\",\n        \"description\": \"\"\n      }\n    },\n    {\n      \"column\": \"BodyCondition\",\n      \"properties\": {\n        \"dtype\": \"category\",\n        \"num_unique_values\": 10,\n        \"samples\": [\n          \"\\u062a\\u0635\\u0627\\u062f\\u0641\\u06cc\"\n        ],\n        \"semantic_type\": \"\",\n        \"description\": \"\"\n      }\n    },\n    {\n      \"column\": \"InsuranceDeadline\",\n      \"properties\": {\n        \"dtype\": \"category\",\n        \"num_unique_values\": 12,\n        \"samples\": [\n          \"\\u06f3 \\u0645\\u0627\\u0647\"\n        ],\n        \"semantic_type\": \"\",\n        \"description\": \"\"\n      }\n    },\n    {\n      \"column\": \"Gearbox\",\n      \"properties\": {\n        \"dtype\": \"category\",\n        \"num_unique_values\": 2,\n        \"samples\": [\n          \"\\u0627\\u062a\\u0648\\u0645\\u0627\\u062a\\u06cc\\u06a9\"\n        ],\n        \"semantic_type\": \"\",\n        \"description\": \"\"\n      }\n    },\n    {\n      \"column\": \"Price\",\n      \"properties\": {\n        \"dtype\": \"category\",\n        \"num_unique_values\": 1839,\n        \"samples\": [\n          \"\\u06f7\\u06f2\\u06f6\\u066c\\u06f0\\u06f0\\u06f0\\u066c\\u06f0\\u06f0\\u06f0 \\u062a\\u0648\\u0645\\u0627\\u0646\"\n        ],\n        \"semantic_type\": \"\",\n        \"description\": \"\"\n      }\n    },\n    {\n      \"column\": \"Brand\",\n      \"properties\": {\n        \"dtype\": \"category\",\n        \"num_unique_values\": 883,\n        \"samples\": [\n          \"\\u0627\\u0645\\u200c\\u0648\\u06cc\\u200c\\u0627\\u0645 110 \\u06f3 \\u0633\\u06cc\\u0644\\u0646\\u062f\\u0631\"\n        ],\n        \"semantic_type\": \"\",\n        \"description\": \"\"\n      }\n    },\n    {\n      \"column\": \"InstallmentInformation\",\n      \"properties\": {\n        \"dtype\": \"object\",\n        \"semantic_type\": \"\",\n        \"description\": \"\"\n      }\n    }\n  ]\n}"
            }
          },
          "metadata": {},
          "execution_count": 3
        }
      ]
    },
    {
      "cell_type": "code",
      "source": [
        "brands=[brand for brand in list(set(df['Brand'])) if type(brand)==str]\n",
        "brand_index={}\n",
        "for index, brand in enumerate(brands):\n",
        "  brand_index[brand]=index\n",
        "def get_brand_index(brand:str):\n",
        "  return brand_index[brand]"
      ],
      "metadata": {
        "id": "lDRJ6F5QbbJ4"
      },
      "execution_count": 4,
      "outputs": []
    },
    {
      "cell_type": "code",
      "source": [
        "get_brand_index('پژو 207i دنده‌ای')"
      ],
      "metadata": {
        "colab": {
          "base_uri": "https://localhost:8080/"
        },
        "id": "f_ue7WArbbuO",
        "outputId": "e2a8c0c3-dced-4aa9-9dd2-acfefbc19945"
      },
      "execution_count": 5,
      "outputs": [
        {
          "output_type": "execute_result",
          "data": {
            "text/plain": [
              "95"
            ]
          },
          "metadata": {},
          "execution_count": 5
        }
      ]
    },
    {
      "cell_type": "code",
      "source": [
        "get_brand_index(df['Brand'][0])"
      ],
      "metadata": {
        "colab": {
          "base_uri": "https://localhost:8080/"
        },
        "id": "8VCA2HzJbgU4",
        "outputId": "2c637446-bf9c-4d97-d6f3-a7631ae85940"
      },
      "execution_count": 6,
      "outputs": [
        {
          "output_type": "execute_result",
          "data": {
            "text/plain": [
              "572"
            ]
          },
          "metadata": {},
          "execution_count": 6
        }
      ]
    },
    {
      "cell_type": "code",
      "source": [
        "def get_persian_num_value(text: str):\n",
        "    special_cases = {'غیرقابل نمایش': -1, 'توافقی': -1, 'قبل از 1366':-1}\n",
        "\n",
        "    normal_text = text.replace('۰', '0').replace('۱', '1').replace('۲', '2').replace('۳', '3') \\\n",
        "        .replace('۴', '4').replace('۵', '5').replace('۶', '6').replace('۷', '7') \\\n",
        "        .replace('۸', '8').replace('۹', '9').replace('٬', '')\n",
        "\n",
        "    if not normal_text.isdigit():\n",
        "        if normal_text.strip() in special_cases:\n",
        "            return special_cases[normal_text.strip()]\n",
        "        else:\n",
        "            return -1\n",
        "    return int(normal_text)"
      ],
      "metadata": {
        "id": "-rwm-B7xbkag"
      },
      "execution_count": 14,
      "outputs": []
    },
    {
      "cell_type": "code",
      "source": [
        "get_persian_num_value('۱۴۰۱')"
      ],
      "metadata": {
        "colab": {
          "base_uri": "https://localhost:8080/"
        },
        "id": "IY102A35boJo",
        "outputId": "46e86e11-a489-49a3-f7d6-8983738a5825"
      },
      "execution_count": 15,
      "outputs": [
        {
          "output_type": "execute_result",
          "data": {
            "text/plain": [
              "1401"
            ]
          },
          "metadata": {},
          "execution_count": 15
        }
      ]
    },
    {
      "cell_type": "code",
      "source": [
        "get_persian_num_value(df['YearOfConstruction'][0])"
      ],
      "metadata": {
        "colab": {
          "base_uri": "https://localhost:8080/"
        },
        "id": "EpQm1kYZbon4",
        "outputId": "723b638f-c51e-44da-db30-051e92ae54ca"
      },
      "execution_count": 16,
      "outputs": [
        {
          "output_type": "execute_result",
          "data": {
            "text/plain": [
              "1402"
            ]
          },
          "metadata": {},
          "execution_count": 16
        }
      ]
    },
    {
      "cell_type": "code",
      "source": [
        "def get_adv_brand(adv_item):\n",
        "  if 'Brand' in adv_item:\n",
        "    return get_brand_index(adv_item['Brand'])\n",
        "  return -1"
      ],
      "metadata": {
        "id": "Dw8DwgzEbwyA"
      },
      "execution_count": 17,
      "outputs": []
    },
    {
      "cell_type": "code",
      "source": [
        "def get_adv_year(adv_item):\n",
        "  if 'YearOfConstruction' in adv_item:\n",
        "    return get_persian_num_value(adv_item['YearOfConstruction'])\n",
        "  return -1"
      ],
      "metadata": {
        "id": "FmGItlc9b00w"
      },
      "execution_count": 18,
      "outputs": []
    },
    {
      "cell_type": "code",
      "source": [
        "def get_adv_price(adv_item):\n",
        "  if 'Price' in adv_item:\n",
        "    return get_persian_num_value(adv_item['Price']\n",
        "                                 .replace('تومان','')\n",
        "                                 .replace('غیرقابل نمایش','')\n",
        "                                 .replace('توافقی','').strip())\n",
        "  return -1"
      ],
      "metadata": {
        "id": "Egv2DcDNb0yg"
      },
      "execution_count": 19,
      "outputs": []
    },
    {
      "cell_type": "code",
      "source": [
        "[[get_adv_brand(adv),get_adv_year(adv),get_adv_price(adv)] for adv in items[0:100]]"
      ],
      "metadata": {
        "colab": {
          "base_uri": "https://localhost:8080/"
        },
        "id": "ZIG0FhEgb0v8",
        "outputId": "76921b87-ca9a-4a39-dbca-c8c3446180e1"
      },
      "execution_count": 20,
      "outputs": [
        {
          "output_type": "execute_result",
          "data": {
            "text/plain": [
              "[[572, 1402, 820000000],\n",
              " [510, 1399, 347000000],\n",
              " [337, 1387, 1250000000],\n",
              " [56, 1401, 10000000],\n",
              " [798, 1393, 358000000],\n",
              " [868, 1397, 280000000],\n",
              " [553, 1401, -1],\n",
              " [843, 1384, 250000000],\n",
              " [263, 1397, 1415000000],\n",
              " [199, 1399, 332000000],\n",
              " [-1, 1390, -1],\n",
              " [546, 2014, 2090000000],\n",
              " [791, 1401, 900000000],\n",
              " [15, 1401, 650000000],\n",
              " [512, 1401, -1],\n",
              " [637, 1388, 355000000],\n",
              " [761, 1384, 125000000],\n",
              " [292, 2006, 550000000],\n",
              " [360, 2009, 1100000000],\n",
              " [779, 2010, 1120000000],\n",
              " [223, 1399, 11111111],\n",
              " [489, 1385, 225000000],\n",
              " [617, 1401, 371000000],\n",
              " [-1, 1379, -1],\n",
              " [491, 1400, 535000000],\n",
              " [566, 1402, -1],\n",
              " [92, 1396, 1670000000],\n",
              " [848, 1401, 680000000],\n",
              " [530, 1385, 125000000],\n",
              " [172, 1386, 360000000],\n",
              " [572, 1401, 970000000],\n",
              " [512, 1402, -1],\n",
              " [-1, -1, -1],\n",
              " [-1, 1397, -1],\n",
              " [219, 1391, 225000000],\n",
              " [715, 1395, 590000000],\n",
              " [510, 1397, 312000000],\n",
              " [93, 1401, 615000000],\n",
              " [92, 1397, 1850000000],\n",
              " [213, 1397, 1970000000],\n",
              " [-1, -1, -1],\n",
              " [-1, 1391, -1],\n",
              " [106, 1398, 535000000],\n",
              " [491, 1397, 453000000],\n",
              " [719, 1386, 190000000],\n",
              " [759, 1401, 2350000000],\n",
              " [-1, 1376, -1],\n",
              " [831, 1401, 1340000000],\n",
              " [650, 1398, 285000000],\n",
              " [491, 1390, 260000000],\n",
              " [-1, -1, -1],\n",
              " [756, 1401, 640000000],\n",
              " [458, 1387, -1],\n",
              " [524, 1389, 385000000],\n",
              " [265, 1401, 11111111],\n",
              " [458, 1388, 345000000],\n",
              " [168, 1386, 210000000],\n",
              " [723, 1368, 215000000],\n",
              " [219, 1387, 154000000],\n",
              " [-1, 1402, -1],\n",
              " [566, 1401, 1500000000],\n",
              " [70, 1397, 1050000000],\n",
              " [184, 1387, 140000000],\n",
              " [-1, -1, -1],\n",
              " [402, 1388, 200000000],\n",
              " [232, 2017, -1],\n",
              " [491, 1383, 235000000],\n",
              " [858, 1400, -1],\n",
              " [20, 1993, 220000000],\n",
              " [393, 1401, 417000000],\n",
              " [761, 1383, 125000000],\n",
              " [715, 1396, 665000000],\n",
              " [396, 2008, 1730000000],\n",
              " [-1, 1402, -1],\n",
              " [19, 1401, -1],\n",
              " [328, 1396, 450000000],\n",
              " [831, 1401, 1360000000],\n",
              " [719, 1375, 135000000],\n",
              " [617, 1402, -1],\n",
              " [-1, -1, -1],\n",
              " [491, 1388, 280000000],\n",
              " [310, 2013, 2460000000],\n",
              " [307, 1397, 1895000000],\n",
              " [276, 1401, 489000000],\n",
              " [270, 1390, 390000000],\n",
              " [491, 1381, 155000000],\n",
              " [510, 1393, 215000000],\n",
              " [868, 1399, 328000000],\n",
              " [-1, 1396, -1],\n",
              " [771, 1394, 775000000],\n",
              " [135, 1396, 460000000],\n",
              " [748, 1396, 540000000],\n",
              " [275, 1401, -1],\n",
              " [764, 1401, -1],\n",
              " [771, 1396, 790000000],\n",
              " [-1, 1367, -1],\n",
              " [491, 1395, 405000000],\n",
              " [761, 1390, 200000000],\n",
              " [55, 1398, 555000000],\n",
              " [705, 1398, 320000000]]"
            ]
          },
          "metadata": {},
          "execution_count": 20
        }
      ]
    },
    {
      "cell_type": "markdown",
      "source": [
        "**Predicting divar car prices based on 'Brand' & 'Year Of Construction'**"
      ],
      "metadata": {
        "id": "6x3BLB4cgzoe"
      }
    },
    {
      "cell_type": "code",
      "source": [
        "import pandas as pd\n",
        "from sklearn.model_selection import train_test_split\n",
        "from sklearn.preprocessing import StandardScaler\n",
        "from keras.models import Sequential\n",
        "from keras.layers import Dense\n",
        "import numpy as np"
      ],
      "metadata": {
        "id": "9K7bVCdZb0qo"
      },
      "execution_count": 36,
      "outputs": []
    },
    {
      "cell_type": "code",
      "source": [
        "X = np.array([[get_adv_brand(adv), get_adv_year(adv)] for adv in items])  # Features\n",
        "y = np.array([get_adv_price(adv) for adv in items])  # Target variable"
      ],
      "metadata": {
        "id": "Qz6cocGIb0oA"
      },
      "execution_count": 37,
      "outputs": []
    },
    {
      "cell_type": "code",
      "source": [
        "X_train, X_test, y_train, y_test = train_test_split(X, y, test_size=0.2, random_state=42)"
      ],
      "metadata": {
        "id": "JvXbt0NAhhuF"
      },
      "execution_count": 39,
      "outputs": []
    },
    {
      "cell_type": "markdown",
      "source": [
        "Standardize the features"
      ],
      "metadata": {
        "id": "bj8ygLsKjcIl"
      }
    },
    {
      "cell_type": "code",
      "source": [
        "scaler = StandardScaler()\n",
        "X_train_scaled = scaler.fit_transform(X_train)\n",
        "X_test_scaled = scaler.transform(X_test)"
      ],
      "metadata": {
        "id": "2ZiSdV_Dhhrd"
      },
      "execution_count": 40,
      "outputs": []
    },
    {
      "cell_type": "markdown",
      "source": [
        "Build the model\n"
      ],
      "metadata": {
        "id": "0Mmx3ijNjd5A"
      }
    },
    {
      "cell_type": "code",
      "source": [
        "model = Sequential()\n",
        "model.add(Dense(64, activation='relu', input_shape=(X_train_scaled.shape[1],)))\n",
        "model.add(Dense(64, activation='relu'))\n",
        "model.add(Dense(1))"
      ],
      "metadata": {
        "id": "2I6HZjfehho0"
      },
      "execution_count": 41,
      "outputs": []
    },
    {
      "cell_type": "markdown",
      "source": [
        "Compile the model\n"
      ],
      "metadata": {
        "id": "8AgayErrjgdi"
      }
    },
    {
      "cell_type": "code",
      "source": [
        "model.compile(optimizer='rmsprop', loss='mse', metrics=['mae'])"
      ],
      "metadata": {
        "id": "x39aLdCGi-O1"
      },
      "execution_count": 42,
      "outputs": []
    },
    {
      "cell_type": "code",
      "source": [
        "history = model.fit(X_train_scaled, y_train, validation_split=0.2, epochs=100, batch_size=32, verbose=1)"
      ],
      "metadata": {
        "colab": {
          "base_uri": "https://localhost:8080/"
        },
        "id": "WeHv_Z-ei-Mf",
        "outputId": "6b6426be-a1b4-40b0-87f1-c5ddd44b047b"
      },
      "execution_count": null,
      "outputs": [
        {
          "output_type": "stream",
          "name": "stdout",
          "text": [
            "Epoch 1/100\n",
            "911/911 [==============================] - 6s 4ms/step - loss: 1438312254540873728.0000 - mae: 662523200.0000 - val_loss: 1677883743605358592.0000 - val_mae: 692362048.0000\n",
            "Epoch 2/100\n",
            "911/911 [==============================] - 3s 4ms/step - loss: 1438303183569944576.0000 - mae: 662519296.0000 - val_loss: 1677865051907686400.0000 - val_mae: 692355648.0000\n",
            "Epoch 3/100\n",
            "911/911 [==============================] - 3s 3ms/step - loss: 1438274046511808512.0000 - mae: 662507584.0000 - val_loss: 1677817085712924672.0000 - val_mae: 692338304.0000\n",
            "Epoch 4/100\n",
            "911/911 [==============================] - 3s 3ms/step - loss: 1438209725081583616.0000 - mae: 662483968.0000 - val_loss: 1677727063198400512.0000 - val_mae: 692305856.0000\n",
            "Epoch 5/100\n",
            "911/911 [==============================] - 5s 6ms/step - loss: 1438102247819968512.0000 - mae: 662441984.0000 - val_loss: 1677579866079232000.0000 - val_mae: 692252608.0000\n",
            "Epoch 6/100\n",
            "911/911 [==============================] - 3s 3ms/step - loss: 1437934434857779200.0000 - mae: 662376000.0000 - val_loss: 1677363262288560128.0000 - val_mae: 692175168.0000\n",
            "Epoch 7/100\n",
            "911/911 [==============================] - 4s 5ms/step - loss: 1437697215224086528.0000 - mae: 662283264.0000 - val_loss: 1677060759151968256.0000 - val_mae: 692066624.0000\n",
            "Epoch 8/100\n",
            "911/911 [==============================] - 3s 4ms/step - loss: 1437376432706682880.0000 - mae: 662158208.0000 - val_loss: 1676664797527015424.0000 - val_mae: 691923776.0000\n",
            "Epoch 9/100\n",
            "911/911 [==============================] - 4s 4ms/step - loss: 1436956969020686336.0000 - mae: 661995712.0000 - val_loss: 1676155448765448192.0000 - val_mae: 691740736.0000\n",
            "Epoch 10/100\n",
            "911/911 [==============================] - 3s 4ms/step - loss: 1436437724654469120.0000 - mae: 661791616.0000 - val_loss: 1675526665553313792.0000 - val_mae: 691514368.0000\n",
            "Epoch 11/100\n",
            "911/911 [==============================] - 3s 4ms/step - loss: 1435780216701059072.0000 - mae: 661538176.0000 - val_loss: 1674752609367359488.0000 - val_mae: 691236928.0000\n",
            "Epoch 12/100\n",
            "911/911 [==============================] - 6s 6ms/step - loss: 1435008771855220736.0000 - mae: 661234496.0000 - val_loss: 1673829981672701952.0000 - val_mae: 690904128.0000\n",
            "Epoch 13/100\n",
            "911/911 [==============================] - 4s 5ms/step - loss: 1434079821968703488.0000 - mae: 660872576.0000 - val_loss: 1672740090771668992.0000 - val_mae: 690512256.0000\n",
            "Epoch 14/100\n",
            "911/911 [==============================] - 6s 7ms/step - loss: 1432994878869995520.0000 - mae: 660448704.0000 - val_loss: 1671475514960773120.0000 - val_mae: 690056512.0000\n",
            "Epoch 15/100\n",
            "911/911 [==============================] - 6s 7ms/step - loss: 1431741160736423936.0000 - mae: 659956288.0000 - val_loss: 1670014813763272704.0000 - val_mae: 689530176.0000\n",
            "Epoch 16/100\n",
            "911/911 [==============================] - 4s 4ms/step - loss: 1430303686722060288.0000 - mae: 659397120.0000 - val_loss: 1668360186202423296.0000 - val_mae: 688934016.0000\n",
            "Epoch 17/100\n",
            "911/911 [==============================] - 4s 5ms/step - loss: 1428682594265858048.0000 - mae: 658759744.0000 - val_loss: 1666490878996250624.0000 - val_mae: 688258688.0000\n",
            "Epoch 18/100\n",
            "911/911 [==============================] - 4s 5ms/step - loss: 1426851907405611008.0000 - mae: 658047872.0000 - val_loss: 1664373357040107520.0000 - val_mae: 687496640.0000\n",
            "Epoch 19/100\n",
            "911/911 [==============================] - 5s 6ms/step - loss: 1424793759077367808.0000 - mae: 657247168.0000 - val_loss: 1662024113008410624.0000 - val_mae: 686649024.0000\n",
            "Epoch 20/100\n",
            "911/911 [==============================] - 5s 5ms/step - loss: 1422512822205546496.0000 - mae: 656360640.0000 - val_loss: 1659435038002905088.0000 - val_mae: 685713792.0000\n",
            "Epoch 21/100\n",
            "911/911 [==============================] - 3s 3ms/step - loss: 1420018854955843584.0000 - mae: 655392384.0000 - val_loss: 1656572596918943744.0000 - val_mae: 684685056.0000\n",
            "Epoch 22/100\n",
            "911/911 [==============================] - 5s 6ms/step - loss: 1417214413110247424.0000 - mae: 654317184.0000 - val_loss: 1653420709398970368.0000 - val_mae: 683552064.0000\n",
            "Epoch 23/100\n",
            "911/911 [==============================] - 4s 5ms/step - loss: 1414216182340255744.0000 - mae: 653155776.0000 - val_loss: 1650033801268559872.0000 - val_mae: 682336832.0000\n",
            "Epoch 24/100\n",
            "911/911 [==============================] - 3s 4ms/step - loss: 1410952969267970048.0000 - mae: 651885760.0000 - val_loss: 1646290376492843008.0000 - val_mae: 680994752.0000\n",
            "Epoch 25/100\n",
            "911/911 [==============================] - 5s 6ms/step - loss: 1407344921861423104.0000 - mae: 650508416.0000 - val_loss: 1642243211629953024.0000 - val_mae: 679543808.0000\n",
            "Epoch 26/100\n",
            "911/911 [==============================] - 4s 5ms/step - loss: 1403487010437464064.0000 - mae: 649021824.0000 - val_loss: 1637902889479307264.0000 - val_mae: 677986368.0000\n",
            "Epoch 27/100\n",
            "911/911 [==============================] - 5s 6ms/step - loss: 1399344737818771456.0000 - mae: 647412992.0000 - val_loss: 1633171003750219776.0000 - val_mae: 676291008.0000\n",
            "Epoch 28/100\n",
            "911/911 [==============================] - 6s 6ms/step - loss: 1394862441229189120.0000 - mae: 645672448.0000 - val_loss: 1628143349393260544.0000 - val_mae: 674482304.0000\n",
            "Epoch 29/100\n",
            "911/911 [==============================] - 7s 8ms/step - loss: 1389991742157094912.0000 - mae: 643810560.0000 - val_loss: 1622760277902622720.0000 - val_mae: 672543424.0000\n",
            "Epoch 30/100\n",
            "911/911 [==============================] - 6s 6ms/step - loss: 1384958865119903744.0000 - mae: 641836736.0000 - val_loss: 1617008320260866048.0000 - val_mae: 670466432.0000\n",
            "Epoch 31/100\n",
            "911/911 [==============================] - 4s 4ms/step - loss: 1379466254783348736.0000 - mae: 639706240.0000 - val_loss: 1610889400613339136.0000 - val_mae: 668248448.0000\n",
            "Epoch 32/100\n",
            "911/911 [==============================] - 4s 4ms/step - loss: 1373654923513692160.0000 - mae: 637434816.0000 - val_loss: 1604414101759459328.0000 - val_mae: 665890240.0000\n",
            "Epoch 33/100\n",
            "911/911 [==============================] - 3s 3ms/step - loss: 1367509340709191680.0000 - mae: 635027136.0000 - val_loss: 1597551774812602368.0000 - val_mae: 663384896.0000\n",
            "Epoch 34/100\n",
            "911/911 [==============================] - 3s 4ms/step - loss: 1361030193564614656.0000 - mae: 632471104.0000 - val_loss: 1590280154662305792.0000 - val_mae: 660730240.0000\n",
            "Epoch 35/100\n",
            "911/911 [==============================] - 3s 3ms/step - loss: 1354170065641013248.0000 - mae: 629767360.0000 - val_loss: 1582599928503336960.0000 - val_mae: 657922112.0000\n",
            "Epoch 36/100\n",
            "911/911 [==============================] - 4s 4ms/step - loss: 1346966340333731840.0000 - mae: 626919872.0000 - val_loss: 1574582839469408256.0000 - val_mae: 654987008.0000\n",
            "Epoch 37/100\n",
            "911/911 [==============================] - 3s 3ms/step - loss: 1339339577927663616.0000 - mae: 623917120.0000 - val_loss: 1566129106880299008.0000 - val_mae: 651885760.0000\n",
            "Epoch 38/100\n",
            "911/911 [==============================] - 3s 3ms/step - loss: 1331446458829766656.0000 - mae: 620751168.0000 - val_loss: 1557233370616823808.0000 - val_mae: 648614784.0000\n",
            "Epoch 39/100\n",
            "911/911 [==============================] - 5s 6ms/step - loss: 1323086322167971840.0000 - mae: 617428160.0000 - val_loss: 1547955828940603392.0000 - val_mae: 645188288.0000\n",
            "Epoch 40/100\n",
            "911/911 [==============================] - 3s 3ms/step - loss: 1314402654209703936.0000 - mae: 613938944.0000 - val_loss: 1538233259933040640.0000 - val_mae: 641581632.0000\n",
            "Epoch 41/100\n",
            "911/911 [==============================] - 3s 3ms/step - loss: 1305354223268921344.0000 - mae: 610291072.0000 - val_loss: 1528146752576684032.0000 - val_mae: 637823168.0000\n",
            "Epoch 42/100\n",
            "911/911 [==============================] - 3s 3ms/step - loss: 1295926735694462976.0000 - mae: 606488512.0000 - val_loss: 1517675828467466240.0000 - val_mae: 633899264.0000\n",
            "Epoch 43/100\n",
            "911/911 [==============================] - 4s 4ms/step - loss: 1286205953393295360.0000 - mae: 602519040.0000 - val_loss: 1506814302852481024.0000 - val_mae: 629812608.0000\n",
            "Epoch 44/100\n",
            "911/911 [==============================] - 3s 3ms/step - loss: 1276004409632882688.0000 - mae: 598415680.0000 - val_loss: 1495557640246263808.0000 - val_mae: 625583552.0000\n",
            "Epoch 45/100\n",
            "911/911 [==============================] - 3s 4ms/step - loss: 1265635877544001536.0000 - mae: 594187008.0000 - val_loss: 1483896632238931968.0000 - val_mae: 621215872.0000\n",
            "Epoch 46/100\n",
            "911/911 [==============================] - 3s 4ms/step - loss: 1254650244554031104.0000 - mae: 589767488.0000 - val_loss: 1471729161688055808.0000 - val_mae: 616674176.0000\n",
            "Epoch 47/100\n",
            "911/911 [==============================] - 4s 4ms/step - loss: 1243463263497224192.0000 - mae: 585249472.0000 - val_loss: 1459304955172093952.0000 - val_mae: 612054592.0000\n",
            "Epoch 48/100\n",
            "911/911 [==============================] - 3s 3ms/step - loss: 1231867951309651968.0000 - mae: 580583616.0000 - val_loss: 1446415655237582848.0000 - val_mae: 607293632.0000\n",
            "Epoch 49/100\n",
            "911/911 [==============================] - 3s 4ms/step - loss: 1219957491601768448.0000 - mae: 575827968.0000 - val_loss: 1433225638872875008.0000 - val_mae: 602450368.0000\n",
            "Epoch 50/100\n",
            "911/911 [==============================] - 4s 4ms/step - loss: 1207718965111947264.0000 - mae: 570965824.0000 - val_loss: 1419624954915192832.0000 - val_mae: 597483328.0000\n",
            "Epoch 51/100\n",
            "911/911 [==============================] - 3s 3ms/step - loss: 1195194428159950848.0000 - mae: 565969024.0000 - val_loss: 1405632432501161984.0000 - val_mae: 592428288.0000\n",
            "Epoch 52/100\n",
            "911/911 [==============================] - 3s 3ms/step - loss: 1182300455301021696.0000 - mae: 560920448.0000 - val_loss: 1391347852311003136.0000 - val_mae: 587310400.0000\n",
            "Epoch 53/100\n",
            "911/911 [==============================] - 3s 3ms/step - loss: 1169165689395609600.0000 - mae: 555810688.0000 - val_loss: 1376746887649951744.0000 - val_mae: 582143872.0000\n",
            "Epoch 54/100\n",
            "911/911 [==============================] - 5s 6ms/step - loss: 1155720174016397312.0000 - mae: 550636032.0000 - val_loss: 1361857026308702208.0000 - val_mae: 576927936.0000\n",
            "Epoch 55/100\n",
            "911/911 [==============================] - 4s 4ms/step - loss: 1142082312821800960.0000 - mae: 545427456.0000 - val_loss: 1346548800793083904.0000 - val_mae: 571623040.0000\n",
            "Epoch 56/100\n",
            "911/911 [==============================] - 3s 3ms/step - loss: 1128065944749342720.0000 - mae: 540088768.0000 - val_loss: 1330936972629245952.0000 - val_mae: 566306752.0000\n",
            "Epoch 57/100\n",
            "911/911 [==============================] - 4s 4ms/step - loss: 1113798956745228288.0000 - mae: 534702144.0000 - val_loss: 1315081740078809088.0000 - val_mae: 561010304.0000\n",
            "Epoch 58/100\n",
            "911/911 [==============================] - 3s 3ms/step - loss: 1099241079196090368.0000 - mae: 529354784.0000 - val_loss: 1298911222569107456.0000 - val_mae: 555738304.0000\n",
            "Epoch 59/100\n",
            "911/911 [==============================] - 3s 3ms/step - loss: 1084699144565555200.0000 - mae: 524026400.0000 - val_loss: 1282662089978019840.0000 - val_mae: 550577984.0000\n",
            "Epoch 60/100\n",
            "911/911 [==============================] - 3s 3ms/step - loss: 1069813956148723712.0000 - mae: 518778816.0000 - val_loss: 1266090113285226496.0000 - val_mae: 545474688.0000\n",
            "Epoch 61/100\n",
            "911/911 [==============================] - 4s 4ms/step - loss: 1054833659976089600.0000 - mae: 513598656.0000 - val_loss: 1249526382929641472.0000 - val_mae: 540529152.0000\n",
            "Epoch 62/100\n",
            "773/911 [========================>.....] - ETA: 0s - loss: 1036914850258747392.0000 - mae: 508390048.0000"
          ]
        }
      ]
    },
    {
      "cell_type": "markdown",
      "source": [
        "Evaluate the model\n"
      ],
      "metadata": {
        "id": "BNGR74czjYfr"
      }
    },
    {
      "cell_type": "code",
      "source": [
        "test_loss, test_mae = model.evaluate(X_test_scaled, y_test)"
      ],
      "metadata": {
        "id": "-Zszaaivi-J6"
      },
      "execution_count": null,
      "outputs": []
    },
    {
      "cell_type": "markdown",
      "source": [
        "Predict using the model\n"
      ],
      "metadata": {
        "id": "TXBQiBS8jVAi"
      }
    },
    {
      "cell_type": "code",
      "source": [
        "predicted_prices = model.predict(X_test_scaled)"
      ],
      "metadata": {
        "id": "IQK4KRI1i-HT"
      },
      "execution_count": null,
      "outputs": []
    },
    {
      "cell_type": "markdown",
      "source": [
        " sample predictions"
      ],
      "metadata": {
        "id": "IqZ6smWajTEP"
      }
    },
    {
      "cell_type": "code",
      "source": [
        "for i in range(10):\n",
        "    print(f\"Actual price: {y_test[i]}, Predicted price: {predicted_prices[i][0]}\")"
      ],
      "metadata": {
        "id": "_H1n2JP5i-Ey"
      },
      "execution_count": null,
      "outputs": []
    },
    {
      "cell_type": "markdown",
      "source": [
        "visualize the training history"
      ],
      "metadata": {
        "id": "RYxA5PGYjNt0"
      }
    },
    {
      "cell_type": "code",
      "source": [
        "import matplotlib.pyplot as plt\n",
        "\n",
        "loss = history.history['loss']\n",
        "val_loss = history.history['val_loss']\n",
        "epochs = range(1, len(loss) + 1)\n",
        "\n",
        "plt.plot(epochs, loss, 'bo', label='Training loss')\n",
        "plt.plot(epochs, val_loss, 'b', label='Validation loss')\n",
        "plt.title('Training and validation loss')\n",
        "plt.xlabel('Epochs')\n",
        "plt.ylabel('Loss')\n",
        "plt.legend()\n",
        "plt.show()"
      ],
      "metadata": {
        "id": "sauKA_lRi-CK"
      },
      "execution_count": null,
      "outputs": []
    }
  ]
}