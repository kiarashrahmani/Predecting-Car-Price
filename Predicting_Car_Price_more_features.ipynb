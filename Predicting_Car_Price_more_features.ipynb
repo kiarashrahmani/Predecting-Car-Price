{
  "nbformat": 4,
  "nbformat_minor": 0,
  "metadata": {
    "colab": {
      "provenance": [],
      "gpuType": "T4",
      "authorship_tag": "ABX9TyNqfFaAH2qFLUN10N3ClFbS",
      "include_colab_link": true
    },
    "kernelspec": {
      "name": "python3",
      "display_name": "Python 3"
    },
    "language_info": {
      "name": "python"
    },
    "accelerator": "GPU"
  },
  "cells": [
    {
      "cell_type": "markdown",
      "metadata": {
        "id": "view-in-github",
        "colab_type": "text"
      },
      "source": [
        "<a href=\"https://colab.research.google.com/github/kiarashrahmani/Predecting-Car-Price/blob/main/Predicting_Car_Price_more_features.ipynb\" target=\"_parent\"><img src=\"https://colab.research.google.com/assets/colab-badge.svg\" alt=\"Open In Colab\"/></a>"
      ]
    },
    {
      "cell_type": "markdown",
      "source": [
        "**Download Data**"
      ],
      "metadata": {
        "id": "EjisK2J5aXPb"
      }
    },
    {
      "cell_type": "code",
      "execution_count": null,
      "metadata": {
        "colab": {
          "base_uri": "https://localhost:8080/"
        },
        "id": "AKahaCpBXY2E",
        "outputId": "8c2d72f3-adf6-45af-80dc-446910a3284c"
      },
      "outputs": [
        {
          "output_type": "stream",
          "name": "stdout",
          "text": [
            "Downloading...\n",
            "From (original): https://drive.google.com/uc?id=1wcMseVXM09RPw07ibj-sKpfilOpJUli_\n",
            "From (redirected): https://drive.google.com/uc?id=1wcMseVXM09RPw07ibj-sKpfilOpJUli_&confirm=t&uuid=de5df005-056f-4596-95a4-7530da82fe40\n",
            "To: /content/divar-car-tehran.rar\n",
            "100% 37.4M/37.4M [00:00<00:00, 64.3MB/s]\n"
          ]
        }
      ],
      "source": [
        "!gdown 1wcMseVXM09RPw07ibj-sKpfilOpJUli_"
      ]
    },
    {
      "cell_type": "code",
      "source": [
        "!unrar x divar-car-tehran.rar"
      ],
      "metadata": {
        "colab": {
          "base_uri": "https://localhost:8080/"
        },
        "id": "o2KdaTrVakoK",
        "outputId": "88bd1814-f653-4a5c-c980-e274dfab4e2f"
      },
      "execution_count": null,
      "outputs": [
        {
          "output_type": "stream",
          "name": "stdout",
          "text": [
            "\n",
            "UNRAR 6.11 beta 1 freeware      Copyright (c) 1993-2022 Alexander Roshal\n",
            "\n",
            "\n",
            "Extracting from divar-car-tehran.rar\n",
            "\n",
            "\n",
            "Would you like to replace the existing file Extracted Advertisements/Car/Tehran/24346.json\n",
            "  1254 bytes, modified on 2023-04-28 22:54\n",
            "with a new one\n",
            "  1254 bytes, modified on 2023-04-28 22:54\n",
            "\n",
            "[Y]es, [N]o, [A]ll, n[E]ver, [R]ename, [Q]uit \n",
            "User break\n",
            "\n",
            "User break\n"
          ]
        }
      ]
    },
    {
      "cell_type": "code",
      "source": [
        "!cat Extracted\\ Advertisements/Car/Tehran/24346.json"
      ],
      "metadata": {
        "colab": {
          "base_uri": "https://localhost:8080/"
        },
        "id": "_MCgCPtBbLQh",
        "outputId": "a897db1c-3001-45fd-e6cc-5f7365d9ca42"
      },
      "execution_count": null,
      "outputs": [
        {
          "output_type": "stream",
          "name": "stdout",
          "text": [
            "{\n",
            "    \"Title\": \"پژو 206 SD V8، مدل ۱۳۹۶،بدون رنگ\",\n",
            "    \"Explanations\": \"با سلام ماشین بدون رنگ و ضربه ست‌ به شرط کارشناس شما. موتوری سالم .به نسبت سن و سال خط و خش جزئی دارد.\",\n",
            "    \"LocationCity\": \"Tehran\",\n",
            "    \"LocationExact\": \"ونک\",\n",
            "    \"FetchTimeInEpoch\": 1682722479.9126568,\n",
            "    \"PostTimeRelatedToFetchTime\": \"۳ روز پیش\",\n",
            "    \"Tags\": [\n",
            "        \"سواری و وانت\",\n",
            "        \"سواری و وانت در ونک\"\n",
            "    ],\n",
            "    \"URL\": \"https://divar.ir/v/%D9%BE%DA%98%D9%88-206-sd-v8-%D9%85%D8%AF%D9%84-%DB%B1%DB%B3%DB%B9%DB%B6-%D8%A8%D8%AF%D9%88%D9%86-%D8%B1%D9%86%DA%AF_%D8%B3%D9%88%D8%A7%D8%B1%DB%8C-%D9%88-%D9%88%D8%A7%D9%86%D8%AA_%D8%AA%D9%87%D8%B1%D8%A7%D9%86_%D9%88%D9%86%DA%A9_%D8%AF%DB%8C%D9%88%D8%A7%D8%B1/AZHtmaYV\",\n",
            "    \"Color\": \"سفید\",\n",
            "    \"YearOfConstruction\": \"۱۳۹۶\",\n",
            "    \"LifeSpan\": \"۱۲۱٬۰۰۰\",\n",
            "    \"Fuel\": \"بنزینی\",\n",
            "    \"EngineCondition\": \"سالم\",\n",
            "    \"ChassisCondition\": \"سالم و پلمپ\",\n",
            "    \"BodyCondition\": \"سالم و بی‌خط و خش\",\n",
            "    \"InsuranceDeadline\": \"۴ ماه\",\n",
            "    \"Gearbox\": \"دنده‌ای\",\n",
            "    \"Price\": \"۵۱۰٬۰۰۰٬۰۰۰ تومان\",\n",
            "    \"Brand\": \"پژو 206 SD V8\"\n",
            "}"
          ]
        }
      ]
    },
    {
      "cell_type": "code",
      "source": [
        "import os\n",
        "import json\n",
        "\n",
        "items=[]\n",
        "\n",
        "for file_name in os.listdir('Extracted Advertisements/Car/Tehran'):\n",
        "  with open(f'Extracted Advertisements/Car/Tehran/{file_name}', 'r') as file:\n",
        "    item = json.load(file)\n",
        "  items.append(item)\n",
        "  if len(items)%10000 == 0:\n",
        "    print(f'{len(items)} items loaded.')\n",
        "\n",
        "print(f'load complete with {len(items)} items.')"
      ],
      "metadata": {
        "colab": {
          "base_uri": "https://localhost:8080/"
        },
        "id": "SKOJ33NSbRip",
        "outputId": "eccceca8-d61a-4b53-b6b4-d4da4f061ffb"
      },
      "execution_count": null,
      "outputs": [
        {
          "output_type": "stream",
          "name": "stdout",
          "text": [
            "10000 items loaded.\n",
            "20000 items loaded.\n",
            "30000 items loaded.\n",
            "40000 items loaded.\n",
            "load complete with 45527 items.\n"
          ]
        }
      ]
    },
    {
      "cell_type": "code",
      "source": [
        "import pandas as pd\n",
        "\n",
        "df = pd.DataFrame(items)\n",
        "df.head()"
      ],
      "metadata": {
        "colab": {
          "base_uri": "https://localhost:8080/",
          "height": 608
        },
        "id": "S-czawi0bV45",
        "outputId": "9bae7dd8-540a-4862-cbde-38fe633a170e"
      },
      "execution_count": null,
      "outputs": [
        {
          "output_type": "execute_result",
          "data": {
            "text/plain": [
              "                                  Title  \\\n",
              "0                    دنا پلاس، مدل ۱۴۰۲   \n",
              "1           تیبا صندوق‌دار EX، مدل ۱۳۹۹   \n",
              "2                   خودرو سوزوکی ویتارا   \n",
              "3  دیگنیتی پرایم مشکی تو مارون صفر ۱۴۰۱   \n",
              "4               ام‌ وی‌ ام 315 مدل ۱۳۹۳   \n",
              "\n",
              "                                        Explanations LocationCity  \\\n",
              "0  کروز کنترل\\nمولتی مدیا\\nآینه تاشو برقی\\nصندلی ...       Tehran   \n",
              "1  گلگیر عقب صافکاری بدون رنگ در آوردم در صندوق ی...       Tehran   \n",
              "2  خودرو بسیار استثنایی … در حد صفر… مانیتور اندر...       Tehran   \n",
              "3  دیگنیتی پرایم مشکی تو مارون\\nموجود در نمایشگاه...       Tehran   \n",
              "4  سلام\\nماشین موتوری سالم\\nمانیتور اندروید به ار...       Tehran   \n",
              "\n",
              "  LocationExact  FetchTimeInEpoch PostTimeRelatedToFetchTime  \\\n",
              "0      تهران‌سر      1.682741e+09                  ۵ روز پیش   \n",
              "1          نواب      1.682692e+09                ۲۳ ساعت پیش   \n",
              "2        قیطریه      1.682720e+09                  ۳ روز پیش   \n",
              "3        حشمتیه      1.682709e+09                  ۲ روز پیش   \n",
              "4       سهروردی      1.682695e+09                  ۱ روز پیش   \n",
              "\n",
              "                                       Tags  \\\n",
              "0  [سواری و وانت, سواری و وانت در تهران‌سر]   \n",
              "1      [سواری و وانت, سواری و وانت در نواب]   \n",
              "2    [سواری و وانت, سواری و وانت در قیطریه]   \n",
              "3    [سواری و وانت, سواری و وانت در حشمتیه]   \n",
              "4   [سواری و وانت, سواری و وانت در سهروردی]   \n",
              "\n",
              "                                                 URL    Color  \\\n",
              "0  https://divar.ir/v/%D8%AF%D9%86%D8%A7-%D9%BE%D...     سفید   \n",
              "1  https://divar.ir/v/%D8%AA%DB%8C%D8%A8%D8%A7-%D...     سفید   \n",
              "2  https://divar.ir/v/%D8%AE%D9%88%D8%AF%D8%B1%D9...  نقره‌ای   \n",
              "3  https://divar.ir/v/%D8%AF%DB%8C%DA%AF%D9%86%DB...     مشکی   \n",
              "4  https://divar.ir/v/%D8%A7%D9%85-%D9%88%DB%8C-%...  قهوه‌ای   \n",
              "\n",
              "  YearOfConstruction LifeSpan    Fuel EngineCondition ChassisCondition  \\\n",
              "0               ۱۴۰۲        ۰  بنزینی            سالم      سالم و پلمپ   \n",
              "1               ۱۳۹۹   ۳۶٬۰۰۰  بنزینی            سالم      سالم و پلمپ   \n",
              "2               ۱۳۸۷  ۱۹۲٬۰۰۰     NaN            سالم      سالم و پلمپ   \n",
              "3               ۱۴۰۱        ۰     NaN             NaN              NaN   \n",
              "4               ۱۳۹۳  ۱۸۰٬۰۰۰     NaN            سالم      سالم و پلمپ   \n",
              "\n",
              "       BodyCondition InsuranceDeadline  Gearbox                Price  \\\n",
              "0  سالم و بی‌خط و خش            ۱۲ ماه  دنده‌ای    ۸۲۰٬۰۰۰٬۰۰۰ تومان   \n",
              "1       خط و خش جزیی             ۴ ماه  دنده‌ای    ۳۴۷٬۰۰۰٬۰۰۰ تومان   \n",
              "2           رنگ‌شدگی            ۱۲ ماه      NaN  ۱٬۲۵۰٬۰۰۰٬۰۰۰ تومان   \n",
              "3  سالم و بی‌خط و خش               NaN      NaN     ۱۰٬۰۰۰٬۰۰۰ تومان   \n",
              "4           رنگ‌شدگی             ۱ ماه  دنده‌ای    ۳۵۸٬۰۰۰٬۰۰۰ تومان   \n",
              "\n",
              "                                      Brand InstallmentInformation  \n",
              "0                                  دنا پلاس                    NaN  \n",
              "1                         تیبا صندوق‌دار EX                    NaN  \n",
              "2  سوزوکی گرند ویتارا مونتاژ دنده‌ای 2000cc                    NaN  \n",
              "3                                   دیگنیتی                    NaN  \n",
              "4               ام‌وی‌ام 315 صندوق‌دار ساده                    NaN  "
            ],
            "text/html": [
              "\n",
              "  <div id=\"df-a3c93da7-7177-48b2-8975-625575ab10d0\" class=\"colab-df-container\">\n",
              "    <div>\n",
              "<style scoped>\n",
              "    .dataframe tbody tr th:only-of-type {\n",
              "        vertical-align: middle;\n",
              "    }\n",
              "\n",
              "    .dataframe tbody tr th {\n",
              "        vertical-align: top;\n",
              "    }\n",
              "\n",
              "    .dataframe thead th {\n",
              "        text-align: right;\n",
              "    }\n",
              "</style>\n",
              "<table border=\"1\" class=\"dataframe\">\n",
              "  <thead>\n",
              "    <tr style=\"text-align: right;\">\n",
              "      <th></th>\n",
              "      <th>Title</th>\n",
              "      <th>Explanations</th>\n",
              "      <th>LocationCity</th>\n",
              "      <th>LocationExact</th>\n",
              "      <th>FetchTimeInEpoch</th>\n",
              "      <th>PostTimeRelatedToFetchTime</th>\n",
              "      <th>Tags</th>\n",
              "      <th>URL</th>\n",
              "      <th>Color</th>\n",
              "      <th>YearOfConstruction</th>\n",
              "      <th>LifeSpan</th>\n",
              "      <th>Fuel</th>\n",
              "      <th>EngineCondition</th>\n",
              "      <th>ChassisCondition</th>\n",
              "      <th>BodyCondition</th>\n",
              "      <th>InsuranceDeadline</th>\n",
              "      <th>Gearbox</th>\n",
              "      <th>Price</th>\n",
              "      <th>Brand</th>\n",
              "      <th>InstallmentInformation</th>\n",
              "    </tr>\n",
              "  </thead>\n",
              "  <tbody>\n",
              "    <tr>\n",
              "      <th>0</th>\n",
              "      <td>دنا پلاس، مدل ۱۴۰۲</td>\n",
              "      <td>کروز کنترل\\nمولتی مدیا\\nآینه تاشو برقی\\nصندلی ...</td>\n",
              "      <td>Tehran</td>\n",
              "      <td>تهران‌سر</td>\n",
              "      <td>1.682741e+09</td>\n",
              "      <td>۵ روز پیش</td>\n",
              "      <td>[سواری و وانت, سواری و وانت در تهران‌سر]</td>\n",
              "      <td>https://divar.ir/v/%D8%AF%D9%86%D8%A7-%D9%BE%D...</td>\n",
              "      <td>سفید</td>\n",
              "      <td>۱۴۰۲</td>\n",
              "      <td>۰</td>\n",
              "      <td>بنزینی</td>\n",
              "      <td>سالم</td>\n",
              "      <td>سالم و پلمپ</td>\n",
              "      <td>سالم و بی‌خط و خش</td>\n",
              "      <td>۱۲ ماه</td>\n",
              "      <td>دنده‌ای</td>\n",
              "      <td>۸۲۰٬۰۰۰٬۰۰۰ تومان</td>\n",
              "      <td>دنا پلاس</td>\n",
              "      <td>NaN</td>\n",
              "    </tr>\n",
              "    <tr>\n",
              "      <th>1</th>\n",
              "      <td>تیبا صندوق‌دار EX، مدل ۱۳۹۹</td>\n",
              "      <td>گلگیر عقب صافکاری بدون رنگ در آوردم در صندوق ی...</td>\n",
              "      <td>Tehran</td>\n",
              "      <td>نواب</td>\n",
              "      <td>1.682692e+09</td>\n",
              "      <td>۲۳ ساعت پیش</td>\n",
              "      <td>[سواری و وانت, سواری و وانت در نواب]</td>\n",
              "      <td>https://divar.ir/v/%D8%AA%DB%8C%D8%A8%D8%A7-%D...</td>\n",
              "      <td>سفید</td>\n",
              "      <td>۱۳۹۹</td>\n",
              "      <td>۳۶٬۰۰۰</td>\n",
              "      <td>بنزینی</td>\n",
              "      <td>سالم</td>\n",
              "      <td>سالم و پلمپ</td>\n",
              "      <td>خط و خش جزیی</td>\n",
              "      <td>۴ ماه</td>\n",
              "      <td>دنده‌ای</td>\n",
              "      <td>۳۴۷٬۰۰۰٬۰۰۰ تومان</td>\n",
              "      <td>تیبا صندوق‌دار EX</td>\n",
              "      <td>NaN</td>\n",
              "    </tr>\n",
              "    <tr>\n",
              "      <th>2</th>\n",
              "      <td>خودرو سوزوکی ویتارا</td>\n",
              "      <td>خودرو بسیار استثنایی … در حد صفر… مانیتور اندر...</td>\n",
              "      <td>Tehran</td>\n",
              "      <td>قیطریه</td>\n",
              "      <td>1.682720e+09</td>\n",
              "      <td>۳ روز پیش</td>\n",
              "      <td>[سواری و وانت, سواری و وانت در قیطریه]</td>\n",
              "      <td>https://divar.ir/v/%D8%AE%D9%88%D8%AF%D8%B1%D9...</td>\n",
              "      <td>نقره‌ای</td>\n",
              "      <td>۱۳۸۷</td>\n",
              "      <td>۱۹۲٬۰۰۰</td>\n",
              "      <td>NaN</td>\n",
              "      <td>سالم</td>\n",
              "      <td>سالم و پلمپ</td>\n",
              "      <td>رنگ‌شدگی</td>\n",
              "      <td>۱۲ ماه</td>\n",
              "      <td>NaN</td>\n",
              "      <td>۱٬۲۵۰٬۰۰۰٬۰۰۰ تومان</td>\n",
              "      <td>سوزوکی گرند ویتارا مونتاژ دنده‌ای 2000cc</td>\n",
              "      <td>NaN</td>\n",
              "    </tr>\n",
              "    <tr>\n",
              "      <th>3</th>\n",
              "      <td>دیگنیتی پرایم مشکی تو مارون صفر ۱۴۰۱</td>\n",
              "      <td>دیگنیتی پرایم مشکی تو مارون\\nموجود در نمایشگاه...</td>\n",
              "      <td>Tehran</td>\n",
              "      <td>حشمتیه</td>\n",
              "      <td>1.682709e+09</td>\n",
              "      <td>۲ روز پیش</td>\n",
              "      <td>[سواری و وانت, سواری و وانت در حشمتیه]</td>\n",
              "      <td>https://divar.ir/v/%D8%AF%DB%8C%DA%AF%D9%86%DB...</td>\n",
              "      <td>مشکی</td>\n",
              "      <td>۱۴۰۱</td>\n",
              "      <td>۰</td>\n",
              "      <td>NaN</td>\n",
              "      <td>NaN</td>\n",
              "      <td>NaN</td>\n",
              "      <td>سالم و بی‌خط و خش</td>\n",
              "      <td>NaN</td>\n",
              "      <td>NaN</td>\n",
              "      <td>۱۰٬۰۰۰٬۰۰۰ تومان</td>\n",
              "      <td>دیگنیتی</td>\n",
              "      <td>NaN</td>\n",
              "    </tr>\n",
              "    <tr>\n",
              "      <th>4</th>\n",
              "      <td>ام‌ وی‌ ام 315 مدل ۱۳۹۳</td>\n",
              "      <td>سلام\\nماشین موتوری سالم\\nمانیتور اندروید به ار...</td>\n",
              "      <td>Tehran</td>\n",
              "      <td>سهروردی</td>\n",
              "      <td>1.682695e+09</td>\n",
              "      <td>۱ روز پیش</td>\n",
              "      <td>[سواری و وانت, سواری و وانت در سهروردی]</td>\n",
              "      <td>https://divar.ir/v/%D8%A7%D9%85-%D9%88%DB%8C-%...</td>\n",
              "      <td>قهوه‌ای</td>\n",
              "      <td>۱۳۹۳</td>\n",
              "      <td>۱۸۰٬۰۰۰</td>\n",
              "      <td>NaN</td>\n",
              "      <td>سالم</td>\n",
              "      <td>سالم و پلمپ</td>\n",
              "      <td>رنگ‌شدگی</td>\n",
              "      <td>۱ ماه</td>\n",
              "      <td>دنده‌ای</td>\n",
              "      <td>۳۵۸٬۰۰۰٬۰۰۰ تومان</td>\n",
              "      <td>ام‌وی‌ام 315 صندوق‌دار ساده</td>\n",
              "      <td>NaN</td>\n",
              "    </tr>\n",
              "  </tbody>\n",
              "</table>\n",
              "</div>\n",
              "    <div class=\"colab-df-buttons\">\n",
              "\n",
              "  <div class=\"colab-df-container\">\n",
              "    <button class=\"colab-df-convert\" onclick=\"convertToInteractive('df-a3c93da7-7177-48b2-8975-625575ab10d0')\"\n",
              "            title=\"Convert this dataframe to an interactive table.\"\n",
              "            style=\"display:none;\">\n",
              "\n",
              "  <svg xmlns=\"http://www.w3.org/2000/svg\" height=\"24px\" viewBox=\"0 -960 960 960\">\n",
              "    <path d=\"M120-120v-720h720v720H120Zm60-500h600v-160H180v160Zm220 220h160v-160H400v160Zm0 220h160v-160H400v160ZM180-400h160v-160H180v160Zm440 0h160v-160H620v160ZM180-180h160v-160H180v160Zm440 0h160v-160H620v160Z\"/>\n",
              "  </svg>\n",
              "    </button>\n",
              "\n",
              "  <style>\n",
              "    .colab-df-container {\n",
              "      display:flex;\n",
              "      gap: 12px;\n",
              "    }\n",
              "\n",
              "    .colab-df-convert {\n",
              "      background-color: #E8F0FE;\n",
              "      border: none;\n",
              "      border-radius: 50%;\n",
              "      cursor: pointer;\n",
              "      display: none;\n",
              "      fill: #1967D2;\n",
              "      height: 32px;\n",
              "      padding: 0 0 0 0;\n",
              "      width: 32px;\n",
              "    }\n",
              "\n",
              "    .colab-df-convert:hover {\n",
              "      background-color: #E2EBFA;\n",
              "      box-shadow: 0px 1px 2px rgba(60, 64, 67, 0.3), 0px 1px 3px 1px rgba(60, 64, 67, 0.15);\n",
              "      fill: #174EA6;\n",
              "    }\n",
              "\n",
              "    .colab-df-buttons div {\n",
              "      margin-bottom: 4px;\n",
              "    }\n",
              "\n",
              "    [theme=dark] .colab-df-convert {\n",
              "      background-color: #3B4455;\n",
              "      fill: #D2E3FC;\n",
              "    }\n",
              "\n",
              "    [theme=dark] .colab-df-convert:hover {\n",
              "      background-color: #434B5C;\n",
              "      box-shadow: 0px 1px 3px 1px rgba(0, 0, 0, 0.15);\n",
              "      filter: drop-shadow(0px 1px 2px rgba(0, 0, 0, 0.3));\n",
              "      fill: #FFFFFF;\n",
              "    }\n",
              "  </style>\n",
              "\n",
              "    <script>\n",
              "      const buttonEl =\n",
              "        document.querySelector('#df-a3c93da7-7177-48b2-8975-625575ab10d0 button.colab-df-convert');\n",
              "      buttonEl.style.display =\n",
              "        google.colab.kernel.accessAllowed ? 'block' : 'none';\n",
              "\n",
              "      async function convertToInteractive(key) {\n",
              "        const element = document.querySelector('#df-a3c93da7-7177-48b2-8975-625575ab10d0');\n",
              "        const dataTable =\n",
              "          await google.colab.kernel.invokeFunction('convertToInteractive',\n",
              "                                                    [key], {});\n",
              "        if (!dataTable) return;\n",
              "\n",
              "        const docLinkHtml = 'Like what you see? Visit the ' +\n",
              "          '<a target=\"_blank\" href=https://colab.research.google.com/notebooks/data_table.ipynb>data table notebook</a>'\n",
              "          + ' to learn more about interactive tables.';\n",
              "        element.innerHTML = '';\n",
              "        dataTable['output_type'] = 'display_data';\n",
              "        await google.colab.output.renderOutput(dataTable, element);\n",
              "        const docLink = document.createElement('div');\n",
              "        docLink.innerHTML = docLinkHtml;\n",
              "        element.appendChild(docLink);\n",
              "      }\n",
              "    </script>\n",
              "  </div>\n",
              "\n",
              "\n",
              "<div id=\"df-32cedb12-8d7c-4c06-9d03-833e12799354\">\n",
              "  <button class=\"colab-df-quickchart\" onclick=\"quickchart('df-32cedb12-8d7c-4c06-9d03-833e12799354')\"\n",
              "            title=\"Suggest charts\"\n",
              "            style=\"display:none;\">\n",
              "\n",
              "<svg xmlns=\"http://www.w3.org/2000/svg\" height=\"24px\"viewBox=\"0 0 24 24\"\n",
              "     width=\"24px\">\n",
              "    <g>\n",
              "        <path d=\"M19 3H5c-1.1 0-2 .9-2 2v14c0 1.1.9 2 2 2h14c1.1 0 2-.9 2-2V5c0-1.1-.9-2-2-2zM9 17H7v-7h2v7zm4 0h-2V7h2v10zm4 0h-2v-4h2v4z\"/>\n",
              "    </g>\n",
              "</svg>\n",
              "  </button>\n",
              "\n",
              "<style>\n",
              "  .colab-df-quickchart {\n",
              "      --bg-color: #E8F0FE;\n",
              "      --fill-color: #1967D2;\n",
              "      --hover-bg-color: #E2EBFA;\n",
              "      --hover-fill-color: #174EA6;\n",
              "      --disabled-fill-color: #AAA;\n",
              "      --disabled-bg-color: #DDD;\n",
              "  }\n",
              "\n",
              "  [theme=dark] .colab-df-quickchart {\n",
              "      --bg-color: #3B4455;\n",
              "      --fill-color: #D2E3FC;\n",
              "      --hover-bg-color: #434B5C;\n",
              "      --hover-fill-color: #FFFFFF;\n",
              "      --disabled-bg-color: #3B4455;\n",
              "      --disabled-fill-color: #666;\n",
              "  }\n",
              "\n",
              "  .colab-df-quickchart {\n",
              "    background-color: var(--bg-color);\n",
              "    border: none;\n",
              "    border-radius: 50%;\n",
              "    cursor: pointer;\n",
              "    display: none;\n",
              "    fill: var(--fill-color);\n",
              "    height: 32px;\n",
              "    padding: 0;\n",
              "    width: 32px;\n",
              "  }\n",
              "\n",
              "  .colab-df-quickchart:hover {\n",
              "    background-color: var(--hover-bg-color);\n",
              "    box-shadow: 0 1px 2px rgba(60, 64, 67, 0.3), 0 1px 3px 1px rgba(60, 64, 67, 0.15);\n",
              "    fill: var(--button-hover-fill-color);\n",
              "  }\n",
              "\n",
              "  .colab-df-quickchart-complete:disabled,\n",
              "  .colab-df-quickchart-complete:disabled:hover {\n",
              "    background-color: var(--disabled-bg-color);\n",
              "    fill: var(--disabled-fill-color);\n",
              "    box-shadow: none;\n",
              "  }\n",
              "\n",
              "  .colab-df-spinner {\n",
              "    border: 2px solid var(--fill-color);\n",
              "    border-color: transparent;\n",
              "    border-bottom-color: var(--fill-color);\n",
              "    animation:\n",
              "      spin 1s steps(1) infinite;\n",
              "  }\n",
              "\n",
              "  @keyframes spin {\n",
              "    0% {\n",
              "      border-color: transparent;\n",
              "      border-bottom-color: var(--fill-color);\n",
              "      border-left-color: var(--fill-color);\n",
              "    }\n",
              "    20% {\n",
              "      border-color: transparent;\n",
              "      border-left-color: var(--fill-color);\n",
              "      border-top-color: var(--fill-color);\n",
              "    }\n",
              "    30% {\n",
              "      border-color: transparent;\n",
              "      border-left-color: var(--fill-color);\n",
              "      border-top-color: var(--fill-color);\n",
              "      border-right-color: var(--fill-color);\n",
              "    }\n",
              "    40% {\n",
              "      border-color: transparent;\n",
              "      border-right-color: var(--fill-color);\n",
              "      border-top-color: var(--fill-color);\n",
              "    }\n",
              "    60% {\n",
              "      border-color: transparent;\n",
              "      border-right-color: var(--fill-color);\n",
              "    }\n",
              "    80% {\n",
              "      border-color: transparent;\n",
              "      border-right-color: var(--fill-color);\n",
              "      border-bottom-color: var(--fill-color);\n",
              "    }\n",
              "    90% {\n",
              "      border-color: transparent;\n",
              "      border-bottom-color: var(--fill-color);\n",
              "    }\n",
              "  }\n",
              "</style>\n",
              "\n",
              "  <script>\n",
              "    async function quickchart(key) {\n",
              "      const quickchartButtonEl =\n",
              "        document.querySelector('#' + key + ' button');\n",
              "      quickchartButtonEl.disabled = true;  // To prevent multiple clicks.\n",
              "      quickchartButtonEl.classList.add('colab-df-spinner');\n",
              "      try {\n",
              "        const charts = await google.colab.kernel.invokeFunction(\n",
              "            'suggestCharts', [key], {});\n",
              "      } catch (error) {\n",
              "        console.error('Error during call to suggestCharts:', error);\n",
              "      }\n",
              "      quickchartButtonEl.classList.remove('colab-df-spinner');\n",
              "      quickchartButtonEl.classList.add('colab-df-quickchart-complete');\n",
              "    }\n",
              "    (() => {\n",
              "      let quickchartButtonEl =\n",
              "        document.querySelector('#df-32cedb12-8d7c-4c06-9d03-833e12799354 button');\n",
              "      quickchartButtonEl.style.display =\n",
              "        google.colab.kernel.accessAllowed ? 'block' : 'none';\n",
              "    })();\n",
              "  </script>\n",
              "</div>\n",
              "    </div>\n",
              "  </div>\n"
            ],
            "application/vnd.google.colaboratory.intrinsic+json": {
              "type": "dataframe",
              "variable_name": "df",
              "summary": "{\n  \"name\": \"df\",\n  \"rows\": 45527,\n  \"fields\": [\n    {\n      \"column\": \"Title\",\n      \"properties\": {\n        \"dtype\": \"string\",\n        \"num_unique_values\": 25513,\n        \"samples\": [\n          \"\\u0647\\u06cc\\u0648\\u0646\\u062f\\u0627 \\u0627\\u0644\\u0646\\u062a\\u0631\\u0627 2015 \\u0641\\u0648\\u0644 \\u0648\\u0627\\u0631\\u062f\\u0627\\u062a\",\n          \"\\u067e\\u0698\\u0648 405 \\u062f\\u0648\\u06af\\u0627\\u0646\\u0647 \\u0633\\u0648\\u0632 GLX - TU5\\u060c \\u0645\\u062f\\u0644 \\u06f1\\u06f4\\u06f0\\u06f0\",\n          \"\\u062a\\u0627\\u0631\\u0627 \\u0627\\u062a\\u0648\\u0645\\u0627\\u062a\\u06cc\\u06a9 *\\u0635\\u0641\\u0631 \\u06f4\\u06f0\\u06f2*\\u0645\\u0634\\u06a9\\u06cc\"\n        ],\n        \"semantic_type\": \"\",\n        \"description\": \"\"\n      }\n    },\n    {\n      \"column\": \"Explanations\",\n      \"properties\": {\n        \"dtype\": \"string\",\n        \"num_unique_values\": 43163,\n        \"samples\": [\n          \"\\u0641\\u0631\\u0645\\u0627\\u0646 \\u0647\\u06cc\\u062f\\u0631\\u0648\\u0644\\u06cc\\u06a9 \\u0645\\u0639\\u0627\\u06cc\\u0646\\u0647 \\u0641\\u0646\\u06cc \\u06cc\\u06a9\\u0633\\u0627\\u0644/\\u0631\\u0648\\u06a9\\u0634 \\u062f\\u0632\\u062f\\u06af\\u06cc\\u0631 \\u0636\\u0628\\u0637 \\u0641\\u0644\\u0634 \\u062e\\u0648\\u0631 \\u0628\\u0627\\u0646\\u062f \\u06a9\\u0641\\u06cc \\u06cc\\u06a9 \\u062a\\u06a9\\u0647 \\u06a9\\u0641\\u06cc \\u06f3\\u200c\\u0628\\u0639\\u062f\\u06cc \\u0686\\u0647\\u0627\\u0631\\u062d\\u0644\\u0642\\u0647 \\u0644\\u0627\\u0633\\u062a\\u06cc\\u06a9 \\u0646\\u0648 \\u06a9\\u0648\\u0644\\u0631 \\u0631\\u0648\\u0634\\u0646 \\u0642\\u06cc\\u0645\\u062a \\u0645\\u0642\\u0637\\u0648\\u0639\",\n          \"* \\u0642\\u06cc\\u0645\\u062a \\u062a\\u0648\\u0627\\u0641\\u0642\\u06cc *\\n\\u0633\\u0631\\u0627\\u062a\\u0648 \\u06f2\\u06f0\\u06f1\\u06f3 \\u0641\\u0648\\u0644 \\u0639\\u0645\\u0627\\u0646 \\u0648\\u0627\\u0631\\u062f\\u0627\\u062a\\u06cc\\n\\u0627\\u0637\\u0644\\u0633 \\u062e\\u0648\\u062f\\u0631\\u0648\\n\\u06f1\\u06f0 \\u0627\\u06cc\\u0631\\u0628\\u06af\\n\\u0628\\u062f\\u0648\\u0646 \\u0631\\u0646\\u06af(\\u06cc\\u0647 \\u0642\\u0633\\u0645\\u062a \\u0637\\u0648\\u0642\\u0647 \\u06af\\u0644\\u06af\\u06cc\\u0631 \\u0639\\u0642\\u0628) \\u0628\\u0631\\u06af\\u0647 \\u06a9\\u0627\\u0631\\u0634\\u0646\\u0627\\u0633\\u06cc \\u0639\\u0628\\u0627\\u062f\\u06cc \\u0645\\u0648\\u062c\\u0648\\u062f\\n\\u067e\\u062f\\u0627\\u0644 \\u0634\\u06cc\\u0641\\u062a\\u0631\\n \\u0641\\u0631\\u0645\\u0627\\u0646\\u060c \\u0635\\u0646\\u062f\\u0644\\u06cc\\u060c \\u0631\\u0648\\u062f\\u0631\\u06cc \\u0647\\u0627 \\u0686\\u0631\\u0645\\u06cc \\u0645\\u0634\\u06a9\\u06cc \\u062f\\u0648\\u062e\\u062a \\u0642\\u0631\\u0645\\u0632 \\n\\u067e\\u062f\\u0627\\u0644\\u0647\\u0627 \\u0627\\u0633\\u067e\\u0631\\u062a \\u0627\\u0633\\u062a\\u06cc\\u0644 \\n\\u0686\\u0647\\u0627\\u0631 \\u0686\\u0631\\u062e \\u062f\\u06cc\\u0633\\u06a9\\n\\u0631\\u06cc\\u0646\\u06af \\u06f1\\u06f7 \\u0641\\u0627\\u0628\\u0631\\u06cc\\u06a9 (\\u0627\\u067e\\u062a\\u06cc\\u0645\\u0627\\u06cc\\u06cc)\\n\\u06f4 \\u062d\\u0644\\u0642\\u0647 \\u0644\\u0627\\u0633\\u062a\\u06cc\\u06a9 \\u06f8\\u06f0\\u066a \\u06a9\\u0648\\u0645\\u0647\\u0648\\n\\u06f1\\u06f4\\u06f8 \\u0647\\u0632\\u0627\\u0631 \\u06a9\\u06cc\\u0644\\u0648\\u0645\\u062a\\u0631 \\u06a9\\u0627\\u0631\\u06a9\\u0631\\u062f \\u0648\\u0627\\u0642\\u0639\\u06cc\\n\\u062f\\u06cc \\u0644\\u0627\\u06cc\\u062a \\u0641\\u0627\\u0628\\u0631\\u06cc\\u06a9\\n\\u0633\\u0646\\u0633\\u0648\\u0631 \\u0648 \\u0645\\u0627\\u0646\\u06cc\\u062a\\u0648\\u0631 \\u062f\\u0646\\u062f\\u0647 \\u0639\\u0642\\u0628 \\u0641\\u0627\\u0628\\u0631\\u06cc\\u06a9(\\u062f\\u0627\\u062e\\u0644 \\u0622\\u06cc\\u0646\\u0647) \\n\\u0622\\u06cc\\u0646\\u0647 \\u0627\\u0644\\u06a9\\u062a\\u0631\\u0648\\u06a9\\u0631\\u0648\\u0645\\u06cc\\u06a9\",\n          \"\\u0633\\u0627\\u0646\\u0631\\u0648\\u0641 .\\u06a9\\u0631\\u0648\\u0632....\\u062a\\u0645\\u06cc\\u0632 \\u062e\\u0627\\u0646\\u06af\\u06cc \\u062f\\u0631\\u0635\\u0648\\u0631\\u062a \\u0645\\u0639\\u0627\\u0648\\u0636\\u0647 \\u0641\\u0642\\u0637 \\u0628\\u0627 \\u062f\\u0646\\u0627 \\u067e\\u0644\\u0627\\u0633 \\u0627\\u062a\\u0648\\u0645\\u0627\\u062a 401\\u06cc\\u0627402\"\n        ],\n        \"semantic_type\": \"\",\n        \"description\": \"\"\n      }\n    },\n    {\n      \"column\": \"LocationCity\",\n      \"properties\": {\n        \"dtype\": \"category\",\n        \"num_unique_values\": 1,\n        \"samples\": [\n          \"Tehran\"\n        ],\n        \"semantic_type\": \"\",\n        \"description\": \"\"\n      }\n    },\n    {\n      \"column\": \"LocationExact\",\n      \"properties\": {\n        \"dtype\": \"category\",\n        \"num_unique_values\": 347,\n        \"samples\": [\n          \"\\u0628\\u0647\\u062c\\u062a\\u200c\\u0622\\u0628\\u0627\\u062f\"\n        ],\n        \"semantic_type\": \"\",\n        \"description\": \"\"\n      }\n    },\n    {\n      \"column\": \"FetchTimeInEpoch\",\n      \"properties\": {\n        \"dtype\": \"number\",\n        \"std\": 22004.10689615538,\n        \"min\": 1682682094.4055293,\n        \"max\": 1682769540.3939965,\n        \"num_unique_values\": 45527,\n        \"samples\": [\n          1682726528.5698237\n        ],\n        \"semantic_type\": \"\",\n        \"description\": \"\"\n      }\n    },\n    {\n      \"column\": \"PostTimeRelatedToFetchTime\",\n      \"properties\": {\n        \"dtype\": \"category\",\n        \"num_unique_values\": 34,\n        \"samples\": [\n          \"\\u06f2\\u06f0 \\u0633\\u0627\\u0639\\u062a \\u067e\\u06cc\\u0634\"\n        ],\n        \"semantic_type\": \"\",\n        \"description\": \"\"\n      }\n    },\n    {\n      \"column\": \"Tags\",\n      \"properties\": {\n        \"dtype\": \"object\",\n        \"semantic_type\": \"\",\n        \"description\": \"\"\n      }\n    },\n    {\n      \"column\": \"URL\",\n      \"properties\": {\n        \"dtype\": \"string\",\n        \"num_unique_values\": 45527,\n        \"samples\": [\n          \"https://divar.ir/v/%D9%BE%D8%B1%D8%B4%DB%8C%D8%A7-%D9%85%D8%AF%D9%84-%DB%B9%DB%B6_%D8%B3%D9%88%D8%A7%D8%B1%DB%8C-%D9%88-%D9%88%D8%A7%D9%86%D8%AA_%D8%AA%D9%87%D8%B1%D8%A7%D9%86_%D9%86%D8%A7%D8%B2%DB%8C-%D8%A2%D8%A8%D8%A7%D8%AF_%D8%AF%DB%8C%D9%88%D8%A7%D8%B1/AZHhXcq3\"\n        ],\n        \"semantic_type\": \"\",\n        \"description\": \"\"\n      }\n    },\n    {\n      \"column\": \"Color\",\n      \"properties\": {\n        \"dtype\": \"category\",\n        \"num_unique_values\": 38,\n        \"samples\": [\n          \"\\u0639\\u0646\\u0627\\u0628\\u06cc\"\n        ],\n        \"semantic_type\": \"\",\n        \"description\": \"\"\n      }\n    },\n    {\n      \"column\": \"YearOfConstruction\",\n      \"properties\": {\n        \"dtype\": \"category\",\n        \"num_unique_values\": 73,\n        \"samples\": [\n          \"\\u06f1\\u06f3\\u06f9\\u06f3\"\n        ],\n        \"semantic_type\": \"\",\n        \"description\": \"\"\n      }\n    },\n    {\n      \"column\": \"LifeSpan\",\n      \"properties\": {\n        \"dtype\": \"category\",\n        \"num_unique_values\": 2304,\n        \"samples\": [\n          \"\\u06f1\\u06f3\\u06f8\\u066c\\u06f8\\u06f8\\u06f5\"\n        ],\n        \"semantic_type\": \"\",\n        \"description\": \"\"\n      }\n    },\n    {\n      \"column\": \"Fuel\",\n      \"properties\": {\n        \"dtype\": \"category\",\n        \"num_unique_values\": 4,\n        \"samples\": [\n          \"\\u062f\\u0648\\u06af\\u0627\\u0646\\u0647\\u200c\\u0633\\u0648\\u0632 \\u062f\\u0633\\u062a\\u06cc\"\n        ],\n        \"semantic_type\": \"\",\n        \"description\": \"\"\n      }\n    },\n    {\n      \"column\": \"EngineCondition\",\n      \"properties\": {\n        \"dtype\": \"category\",\n        \"num_unique_values\": 3,\n        \"samples\": [\n          \"\\u0633\\u0627\\u0644\\u0645\"\n        ],\n        \"semantic_type\": \"\",\n        \"description\": \"\"\n      }\n    },\n    {\n      \"column\": \"ChassisCondition\",\n      \"properties\": {\n        \"dtype\": \"category\",\n        \"num_unique_values\": 3,\n        \"samples\": [\n          \"\\u0633\\u0627\\u0644\\u0645 \\u0648 \\u067e\\u0644\\u0645\\u067e\"\n        ],\n        \"semantic_type\": \"\",\n        \"description\": \"\"\n      }\n    },\n    {\n      \"column\": \"BodyCondition\",\n      \"properties\": {\n        \"dtype\": \"category\",\n        \"num_unique_values\": 10,\n        \"samples\": [\n          \"\\u062a\\u0635\\u0627\\u062f\\u0641\\u06cc\"\n        ],\n        \"semantic_type\": \"\",\n        \"description\": \"\"\n      }\n    },\n    {\n      \"column\": \"InsuranceDeadline\",\n      \"properties\": {\n        \"dtype\": \"category\",\n        \"num_unique_values\": 12,\n        \"samples\": [\n          \"\\u06f3 \\u0645\\u0627\\u0647\"\n        ],\n        \"semantic_type\": \"\",\n        \"description\": \"\"\n      }\n    },\n    {\n      \"column\": \"Gearbox\",\n      \"properties\": {\n        \"dtype\": \"category\",\n        \"num_unique_values\": 2,\n        \"samples\": [\n          \"\\u0627\\u062a\\u0648\\u0645\\u0627\\u062a\\u06cc\\u06a9\"\n        ],\n        \"semantic_type\": \"\",\n        \"description\": \"\"\n      }\n    },\n    {\n      \"column\": \"Price\",\n      \"properties\": {\n        \"dtype\": \"category\",\n        \"num_unique_values\": 1839,\n        \"samples\": [\n          \"\\u06f7\\u06f2\\u06f6\\u066c\\u06f0\\u06f0\\u06f0\\u066c\\u06f0\\u06f0\\u06f0 \\u062a\\u0648\\u0645\\u0627\\u0646\"\n        ],\n        \"semantic_type\": \"\",\n        \"description\": \"\"\n      }\n    },\n    {\n      \"column\": \"Brand\",\n      \"properties\": {\n        \"dtype\": \"category\",\n        \"num_unique_values\": 883,\n        \"samples\": [\n          \"\\u0627\\u0645\\u200c\\u0648\\u06cc\\u200c\\u0627\\u0645 110 \\u06f3 \\u0633\\u06cc\\u0644\\u0646\\u062f\\u0631\"\n        ],\n        \"semantic_type\": \"\",\n        \"description\": \"\"\n      }\n    },\n    {\n      \"column\": \"InstallmentInformation\",\n      \"properties\": {\n        \"dtype\": \"object\",\n        \"semantic_type\": \"\",\n        \"description\": \"\"\n      }\n    }\n  ]\n}"
            }
          },
          "metadata": {},
          "execution_count": 3
        }
      ]
    },
    {
      "cell_type": "code",
      "source": [
        "brands=[brand for brand in list(set(df['Brand'])) if type(brand)==str]\n",
        "brand_index={}\n",
        "for index, brand in enumerate(brands):\n",
        "  brand_index[brand]=index\n",
        "def get_brand_index(brand:str):\n",
        "  return brand_index[brand]"
      ],
      "metadata": {
        "id": "lDRJ6F5QbbJ4"
      },
      "execution_count": null,
      "outputs": []
    },
    {
      "cell_type": "code",
      "source": [
        "get_brand_index('پژو 207i دنده‌ای')"
      ],
      "metadata": {
        "colab": {
          "base_uri": "https://localhost:8080/"
        },
        "id": "f_ue7WArbbuO",
        "outputId": "e2a8c0c3-dced-4aa9-9dd2-acfefbc19945"
      },
      "execution_count": null,
      "outputs": [
        {
          "output_type": "execute_result",
          "data": {
            "text/plain": [
              "95"
            ]
          },
          "metadata": {},
          "execution_count": 5
        }
      ]
    },
    {
      "cell_type": "code",
      "source": [
        "get_brand_index(df['Brand'][0])"
      ],
      "metadata": {
        "colab": {
          "base_uri": "https://localhost:8080/"
        },
        "id": "8VCA2HzJbgU4",
        "outputId": "2c637446-bf9c-4d97-d6f3-a7631ae85940"
      },
      "execution_count": null,
      "outputs": [
        {
          "output_type": "execute_result",
          "data": {
            "text/plain": [
              "572"
            ]
          },
          "metadata": {},
          "execution_count": 6
        }
      ]
    },
    {
      "cell_type": "code",
      "source": [
        "def get_persian_num_value(text: str):\n",
        "    special_cases = {'غیرقابل نمایش': -1, 'توافقی': -1, 'قبل از 1366':-1}\n",
        "\n",
        "    normal_text = text.replace('۰', '0').replace('۱', '1').replace('۲', '2').replace('۳', '3') \\\n",
        "        .replace('۴', '4').replace('۵', '5').replace('۶', '6').replace('۷', '7') \\\n",
        "        .replace('۸', '8').replace('۹', '9').replace('٬', '')\n",
        "\n",
        "    if not normal_text.isdigit():\n",
        "        if normal_text.strip() in special_cases:\n",
        "            return special_cases[normal_text.strip()]\n",
        "        else:\n",
        "            return -1\n",
        "    return int(normal_text)"
      ],
      "metadata": {
        "id": "-rwm-B7xbkag"
      },
      "execution_count": null,
      "outputs": []
    },
    {
      "cell_type": "code",
      "source": [
        "get_persian_num_value('۱۴۰۱')"
      ],
      "metadata": {
        "colab": {
          "base_uri": "https://localhost:8080/"
        },
        "id": "IY102A35boJo",
        "outputId": "46e86e11-a489-49a3-f7d6-8983738a5825"
      },
      "execution_count": null,
      "outputs": [
        {
          "output_type": "execute_result",
          "data": {
            "text/plain": [
              "1401"
            ]
          },
          "metadata": {},
          "execution_count": 15
        }
      ]
    },
    {
      "cell_type": "code",
      "source": [
        "get_persian_num_value(df['YearOfConstruction'][0])"
      ],
      "metadata": {
        "colab": {
          "base_uri": "https://localhost:8080/"
        },
        "id": "EpQm1kYZbon4",
        "outputId": "723b638f-c51e-44da-db30-051e92ae54ca"
      },
      "execution_count": null,
      "outputs": [
        {
          "output_type": "execute_result",
          "data": {
            "text/plain": [
              "1402"
            ]
          },
          "metadata": {},
          "execution_count": 16
        }
      ]
    },
    {
      "cell_type": "code",
      "source": [
        "def get_adv_brand(adv_item):\n",
        "  if 'Brand' in adv_item:\n",
        "    return get_brand_index(adv_item['Brand'])\n",
        "  return -1"
      ],
      "metadata": {
        "id": "Dw8DwgzEbwyA"
      },
      "execution_count": null,
      "outputs": []
    },
    {
      "cell_type": "code",
      "source": [
        "def get_adv_year(adv_item):\n",
        "  if 'YearOfConstruction' in adv_item:\n",
        "    return get_persian_num_value(adv_item['YearOfConstruction'])\n",
        "  return -1"
      ],
      "metadata": {
        "id": "FmGItlc9b00w"
      },
      "execution_count": null,
      "outputs": []
    },
    {
      "cell_type": "code",
      "source": [
        "def get_adv_price(adv_item):\n",
        "  if 'Price' in adv_item:\n",
        "    return get_persian_num_value(adv_item['Price']\n",
        "                                 .replace('تومان','')\n",
        "                                 .replace('غیرقابل نمایش','')\n",
        "                                 .replace('توافقی','').strip())\n",
        "  return -1"
      ],
      "metadata": {
        "id": "Egv2DcDNb0yg"
      },
      "execution_count": null,
      "outputs": []
    },
    {
      "cell_type": "code",
      "source": [
        "data =[[get_adv_brand(adv),get_adv_year(adv),get_adv_price(adv)] for adv in items]"
      ],
      "metadata": {
        "id": "ZIG0FhEgb0v8"
      },
      "execution_count": null,
      "outputs": []
    },
    {
      "cell_type": "markdown",
      "source": [
        "Save data to csv"
      ],
      "metadata": {
        "id": "17hgnu_7ngL3"
      }
    },
    {
      "cell_type": "code",
      "source": [
        "df = pd.DataFrame(data, columns=['Brand Index', 'Year of Construction', 'Price'])\n",
        "df.to_csv('car_prices_data.csv', index=False)\n",
        "print(df.head())"
      ],
      "metadata": {
        "colab": {
          "base_uri": "https://localhost:8080/"
        },
        "id": "A_PM2cWWnfQX",
        "outputId": "df493c73-b1c3-435d-b9d1-9052419605c8"
      },
      "execution_count": null,
      "outputs": [
        {
          "output_type": "stream",
          "name": "stdout",
          "text": [
            "   Brand Index  Year of Construction       Price\n",
            "0          572                  1402   820000000\n",
            "1          510                  1399   347000000\n",
            "2          337                  1387  1250000000\n",
            "3           56                  1401    10000000\n",
            "4          798                  1393   358000000\n"
          ]
        }
      ]
    },
    {
      "cell_type": "markdown",
      "source": [
        "**Predicting divar car prices based on 'Brand' & 'Year Of Construction'**"
      ],
      "metadata": {
        "id": "6x3BLB4cgzoe"
      }
    },
    {
      "cell_type": "code",
      "source": [
        "import pandas as pd\n",
        "from sklearn.model_selection import train_test_split\n",
        "from sklearn.preprocessing import StandardScaler\n",
        "from keras.models import Sequential\n",
        "from keras.layers import Dense\n",
        "import numpy as np"
      ],
      "metadata": {
        "id": "9K7bVCdZb0qo"
      },
      "execution_count": null,
      "outputs": []
    },
    {
      "cell_type": "code",
      "source": [
        "data = np.array(data)"
      ],
      "metadata": {
        "id": "Qz6cocGIb0oA"
      },
      "execution_count": null,
      "outputs": []
    },
    {
      "cell_type": "code",
      "source": [
        "data = data[~np.any(data == -1, axis=1)]"
      ],
      "metadata": {
        "id": "cjAzcVexmiE3"
      },
      "execution_count": null,
      "outputs": []
    },
    {
      "cell_type": "code",
      "source": [
        "X = data[:, :-1]  # Features\n",
        "y = data[:, -1] # price"
      ],
      "metadata": {
        "id": "nP9yALdqlxQh"
      },
      "execution_count": null,
      "outputs": []
    },
    {
      "cell_type": "code",
      "source": [
        "X_train, X_test, y_train, y_test = train_test_split(X, y, test_size=0.2, random_state=42)"
      ],
      "metadata": {
        "id": "JvXbt0NAhhuF"
      },
      "execution_count": null,
      "outputs": []
    },
    {
      "cell_type": "markdown",
      "source": [
        "Standardize the features"
      ],
      "metadata": {
        "id": "bj8ygLsKjcIl"
      }
    },
    {
      "cell_type": "code",
      "source": [
        "scaler = StandardScaler()\n",
        "X_train_scaled = scaler.fit_transform(X_train)\n",
        "X_test_scaled = scaler.transform(X_test)"
      ],
      "metadata": {
        "id": "2ZiSdV_Dhhrd"
      },
      "execution_count": null,
      "outputs": []
    },
    {
      "cell_type": "markdown",
      "source": [
        "Build the model\n"
      ],
      "metadata": {
        "id": "0Mmx3ijNjd5A"
      }
    },
    {
      "cell_type": "code",
      "source": [
        "model = Sequential()\n",
        "model.add(Dense(64, activation='relu', input_shape=(X_train_scaled.shape[1],)))\n",
        "model.add(Dense(64, activation='relu'))\n",
        "model.add(Dense(1))"
      ],
      "metadata": {
        "id": "2I6HZjfehho0"
      },
      "execution_count": null,
      "outputs": []
    },
    {
      "cell_type": "markdown",
      "source": [
        "Compile the model\n"
      ],
      "metadata": {
        "id": "8AgayErrjgdi"
      }
    },
    {
      "cell_type": "code",
      "source": [
        "model.compile(optimizer='rmsprop', loss='mse', metrics=['mae'])"
      ],
      "metadata": {
        "id": "x39aLdCGi-O1"
      },
      "execution_count": null,
      "outputs": []
    },
    {
      "cell_type": "code",
      "source": [
        "history = model.fit(X_train_scaled, y_train, validation_split=0.2, epochs=60, batch_size=100, verbose=1)"
      ],
      "metadata": {
        "colab": {
          "base_uri": "https://localhost:8080/"
        },
        "id": "WeHv_Z-ei-Mf",
        "outputId": "816b8737-dd9b-4111-fa1a-f0275290da24"
      },
      "execution_count": null,
      "outputs": [
        {
          "output_type": "stream",
          "name": "stdout",
          "text": [
            "Epoch 1/60\n",
            "236/236 [==============================] - 11s 46ms/step - loss: 1073435060255850496.0000 - mae: 523432448.0000 - val_loss: 1019387397961416704.0000 - val_mae: 515043712.0000\n",
            "Epoch 2/60\n",
            "236/236 [==============================] - 10s 40ms/step - loss: 1068975028776730624.0000 - mae: 523564160.0000 - val_loss: 1015108785900879872.0000 - val_mae: 515239264.0000\n",
            "Epoch 3/60\n",
            "236/236 [==============================] - 10s 41ms/step - loss: 1064428067159539712.0000 - mae: 523647264.0000 - val_loss: 1010851889194991616.0000 - val_mae: 515401696.0000\n",
            "Epoch 4/60\n",
            "236/236 [==============================] - 10s 41ms/step - loss: 1060013527974019072.0000 - mae: 523734208.0000 - val_loss: 1006567161101025280.0000 - val_mae: 515531520.0000\n",
            "Epoch 5/60\n",
            "236/236 [==============================] - 9s 38ms/step - loss: 1055528482605367296.0000 - mae: 523776992.0000 - val_loss: 1002335553162575872.0000 - val_mae: 515621664.0000\n",
            "Epoch 6/60\n",
            "236/236 [==============================] - 11s 47ms/step - loss: 1051056081620434944.0000 - mae: 523819040.0000 - val_loss: 998066561828782080.0000 - val_mae: 515672032.0000\n",
            "Epoch 7/60\n",
            "236/236 [==============================] - 10s 41ms/step - loss: 1046580519539572736.0000 - mae: 523801696.0000 - val_loss: 993824371090915328.0000 - val_mae: 515719520.0000\n",
            "Epoch 8/60\n",
            "236/236 [==============================] - 11s 47ms/step - loss: 1042077400948539392.0000 - mae: 523749760.0000 - val_loss: 989636056422809600.0000 - val_mae: 515704416.0000\n",
            "Epoch 9/60\n",
            "236/236 [==============================] - 11s 46ms/step - loss: 1037729725813882880.0000 - mae: 523716288.0000 - val_loss: 985441694440751104.0000 - val_mae: 515674048.0000\n",
            "Epoch 10/60\n",
            "236/236 [==============================] - 10s 41ms/step - loss: 1033384868177772544.0000 - mae: 523583520.0000 - val_loss: 981262725621481472.0000 - val_mae: 515621696.0000\n",
            "Epoch 11/60\n",
            "236/236 [==============================] - 9s 39ms/step - loss: 1028858728562032640.0000 - mae: 523468992.0000 - val_loss: 977075029428666368.0000 - val_mae: 515525984.0000\n",
            "Epoch 12/60\n",
            "236/236 [==============================] - 11s 48ms/step - loss: 1024489544231157760.0000 - mae: 523351584.0000 - val_loss: 972872008792539136.0000 - val_mae: 515440896.0000\n",
            "Epoch 13/60\n",
            "236/236 [==============================] - 11s 48ms/step - loss: 1020157056100859904.0000 - mae: 523207392.0000 - val_loss: 968694551801757696.0000 - val_mae: 515352256.0000\n",
            "Epoch 14/60\n",
            "236/236 [==============================] - 11s 47ms/step - loss: 1015608032899366912.0000 - mae: 523055136.0000 - val_loss: 964508023840047104.0000 - val_mae: 515227200.0000\n",
            "Epoch 15/60\n",
            "236/236 [==============================] - 11s 46ms/step - loss: 1011157141110652928.0000 - mae: 522836352.0000 - val_loss: 960335239773683712.0000 - val_mae: 515086208.0000\n",
            "Epoch 16/60\n",
            "236/236 [==============================] - 10s 41ms/step - loss: 1006828295112622080.0000 - mae: 522674688.0000 - val_loss: 956169602532900864.0000 - val_mae: 514953920.0000\n",
            "Epoch 17/60\n",
            "236/236 [==============================] - 9s 40ms/step - loss: 1002439663169830912.0000 - mae: 522495264.0000 - val_loss: 952018396382232576.0000 - val_mae: 514819456.0000\n",
            "Epoch 18/60\n",
            "236/236 [==============================] - 10s 41ms/step - loss: 998080992918896640.0000 - mae: 522272800.0000 - val_loss: 947918042644348928.0000 - val_mae: 514624928.0000\n",
            "Epoch 19/60\n",
            "236/236 [==============================] - 11s 46ms/step - loss: 993689406038605824.0000 - mae: 522047936.0000 - val_loss: 943709455730606080.0000 - val_mae: 514436416.0000\n",
            "Epoch 20/60\n",
            "236/236 [==============================] - 11s 46ms/step - loss: 989373685460631552.0000 - mae: 521805184.0000 - val_loss: 939673973178761216.0000 - val_mae: 514228768.0000\n",
            "Epoch 21/60\n",
            "236/236 [==============================] - 11s 47ms/step - loss: 985052604763471872.0000 - mae: 521578144.0000 - val_loss: 935548536831868928.0000 - val_mae: 514019104.0000\n",
            "Epoch 22/60\n",
            "236/236 [==============================] - 9s 40ms/step - loss: 980664728734924800.0000 - mae: 521314688.0000 - val_loss: 931411280734978048.0000 - val_mae: 513809248.0000\n",
            "Epoch 23/60\n",
            "236/236 [==============================] - 10s 41ms/step - loss: 976197412991270912.0000 - mae: 521029568.0000 - val_loss: 927204480527630336.0000 - val_mae: 513600800.0000\n",
            "Epoch 24/60\n",
            "236/236 [==============================] - 10s 41ms/step - loss: 971771122775228416.0000 - mae: 520828864.0000 - val_loss: 923090726491783168.0000 - val_mae: 513389472.0000\n",
            "Epoch 25/60\n",
            "236/236 [==============================] - 10s 42ms/step - loss: 967529962829512704.0000 - mae: 520582528.0000 - val_loss: 919020884201570304.0000 - val_mae: 513177760.0000\n",
            "Epoch 26/60\n",
            "236/236 [==============================] - 9s 39ms/step - loss: 963234033460838400.0000 - mae: 520312288.0000 - val_loss: 914971451595948032.0000 - val_mae: 512939168.0000\n",
            "Epoch 27/60\n",
            "236/236 [==============================] - 11s 48ms/step - loss: 958895566736064512.0000 - mae: 520065632.0000 - val_loss: 910824025016500224.0000 - val_mae: 512719936.0000\n",
            "Epoch 28/60\n",
            "236/236 [==============================] - 11s 47ms/step - loss: 954514631374667776.0000 - mae: 519770400.0000 - val_loss: 906751021630357504.0000 - val_mae: 512473312.0000\n",
            "Epoch 29/60\n",
            "236/236 [==============================] - 10s 41ms/step - loss: 950231621267619840.0000 - mae: 519488928.0000 - val_loss: 902728595779092480.0000 - val_mae: 512262208.0000\n",
            "Epoch 30/60\n",
            "236/236 [==============================] - 10s 40ms/step - loss: 945937272446910464.0000 - mae: 519209984.0000 - val_loss: 898675795919110144.0000 - val_mae: 512036800.0000\n",
            "Epoch 31/60\n",
            "236/236 [==============================] - 11s 46ms/step - loss: 941682506044801024.0000 - mae: 518925888.0000 - val_loss: 894753356906496000.0000 - val_mae: 511788832.0000\n",
            "Epoch 32/60\n",
            "236/236 [==============================] - 10s 41ms/step - loss: 937560299513315328.0000 - mae: 518580384.0000 - val_loss: 890755532627902464.0000 - val_mae: 511511392.0000\n",
            "Epoch 33/60\n",
            "236/236 [==============================] - 11s 47ms/step - loss: 933210494074880000.0000 - mae: 518261152.0000 - val_loss: 886709467276640256.0000 - val_mae: 511276512.0000\n",
            "Epoch 34/60\n",
            "236/236 [==============================] - 11s 46ms/step - loss: 928989675094278144.0000 - mae: 517936352.0000 - val_loss: 882750950538739712.0000 - val_mae: 511018944.0000\n",
            "Epoch 35/60\n",
            "236/236 [==============================] - 9s 38ms/step - loss: 924800673231405056.0000 - mae: 517656416.0000 - val_loss: 878840125117693952.0000 - val_mae: 510730400.0000\n",
            "Epoch 36/60\n",
            "236/236 [==============================] - 11s 46ms/step - loss: 920711933085089792.0000 - mae: 517358944.0000 - val_loss: 875002966975709184.0000 - val_mae: 510453792.0000\n",
            "Epoch 37/60\n",
            "236/236 [==============================] - 10s 41ms/step - loss: 916672808400977920.0000 - mae: 517029696.0000 - val_loss: 871208208750870528.0000 - val_mae: 510147200.0000\n",
            "Epoch 38/60\n",
            "236/236 [==============================] - 10s 41ms/step - loss: 912516791886938112.0000 - mae: 516702048.0000 - val_loss: 867315937588543488.0000 - val_mae: 509889056.0000\n",
            "Epoch 39/60\n",
            "236/236 [==============================] - 11s 47ms/step - loss: 908387919566209024.0000 - mae: 516388768.0000 - val_loss: 863430057337552896.0000 - val_mae: 509614400.0000\n",
            "Epoch 40/60\n",
            "236/236 [==============================] - 11s 46ms/step - loss: 904281381075419136.0000 - mae: 516074464.0000 - val_loss: 859564105734815744.0000 - val_mae: 509339168.0000\n",
            "Epoch 41/60\n",
            "236/236 [==============================] - 11s 47ms/step - loss: 900216555307008000.0000 - mae: 515726304.0000 - val_loss: 855812091024506880.0000 - val_mae: 509045824.0000\n",
            "Epoch 42/60\n",
            "236/236 [==============================] - 9s 39ms/step - loss: 896250548146143232.0000 - mae: 515426368.0000 - val_loss: 852030389500248064.0000 - val_mae: 508752832.0000\n",
            "Epoch 43/60\n",
            "236/236 [==============================] - 11s 47ms/step - loss: 892138855694598144.0000 - mae: 515079648.0000 - val_loss: 848239135968722944.0000 - val_mae: 508522944.0000\n",
            "Epoch 44/60\n",
            "236/236 [==============================] - 10s 41ms/step - loss: 888194426449428480.0000 - mae: 514773664.0000 - val_loss: 844528902700269568.0000 - val_mae: 508228992.0000\n",
            "Epoch 45/60\n",
            "236/236 [==============================] - 10s 41ms/step - loss: 884197495524032512.0000 - mae: 514415712.0000 - val_loss: 840838323202162688.0000 - val_mae: 507976224.0000\n",
            "Epoch 46/60\n",
            "236/236 [==============================] - 10s 41ms/step - loss: 880390986268672000.0000 - mae: 514102240.0000 - val_loss: 837215707266547712.0000 - val_mae: 507695264.0000\n",
            "Epoch 47/60\n",
            "236/236 [==============================] - 11s 46ms/step - loss: 876466897988616192.0000 - mae: 513748800.0000 - val_loss: 833524509293150208.0000 - val_mae: 507428128.0000\n",
            "Epoch 48/60\n",
            "236/236 [==============================] - 11s 46ms/step - loss: 872607131138785280.0000 - mae: 513435680.0000 - val_loss: 829925257979625472.0000 - val_mae: 507146560.0000\n",
            "Epoch 49/60\n",
            "236/236 [==============================] - 9s 38ms/step - loss: 868735681977909248.0000 - mae: 513075840.0000 - val_loss: 826330267273658368.0000 - val_mae: 506885856.0000\n",
            "Epoch 50/60\n",
            "236/236 [==============================] - 10s 41ms/step - loss: 864740262881001472.0000 - mae: 512692672.0000 - val_loss: 822696724941242368.0000 - val_mae: 506641568.0000\n",
            "Epoch 51/60\n",
            "236/236 [==============================] - 11s 46ms/step - loss: 860983781404704768.0000 - mae: 512404448.0000 - val_loss: 819152792806490112.0000 - val_mae: 506355264.0000\n",
            "Epoch 52/60\n",
            "236/236 [==============================] - 11s 46ms/step - loss: 857245854187126784.0000 - mae: 512050528.0000 - val_loss: 815655452476964864.0000 - val_mae: 506065344.0000\n",
            "Epoch 53/60\n",
            "236/236 [==============================] - 9s 40ms/step - loss: 853381345693401088.0000 - mae: 511682848.0000 - val_loss: 812113169609654272.0000 - val_mae: 505797792.0000\n",
            "Epoch 54/60\n",
            "236/236 [==============================] - 10s 41ms/step - loss: 849776528102260736.0000 - mae: 511380992.0000 - val_loss: 808722962944360448.0000 - val_mae: 505505152.0000\n",
            "Epoch 55/60\n",
            "236/236 [==============================] - 11s 46ms/step - loss: 846038188567822336.0000 - mae: 511024256.0000 - val_loss: 805159102161354752.0000 - val_mae: 505273920.0000\n",
            "Epoch 56/60\n",
            "236/236 [==============================] - 9s 38ms/step - loss: 842314348842975232.0000 - mae: 510684032.0000 - val_loss: 801802224442277888.0000 - val_mae: 504950976.0000\n",
            "Epoch 57/60\n",
            "236/236 [==============================] - 11s 47ms/step - loss: 838687884616663040.0000 - mae: 510402464.0000 - val_loss: 798435451118551040.0000 - val_mae: 504671968.0000\n",
            "Epoch 58/60\n",
            "236/236 [==============================] - 11s 46ms/step - loss: 835057365941223424.0000 - mae: 510062368.0000 - val_loss: 795044832136396800.0000 - val_mae: 504402784.0000\n",
            "Epoch 59/60\n",
            "236/236 [==============================] - 10s 41ms/step - loss: 831464230661128192.0000 - mae: 509737696.0000 - val_loss: 791738257074290688.0000 - val_mae: 504115648.0000\n",
            "Epoch 60/60\n",
            "236/236 [==============================] - 10s 40ms/step - loss: 827848349234233344.0000 - mae: 509381888.0000 - val_loss: 788404812696780800.0000 - val_mae: 503832000.0000\n"
          ]
        }
      ]
    },
    {
      "cell_type": "markdown",
      "source": [
        "Evaluate the model\n"
      ],
      "metadata": {
        "id": "BNGR74czjYfr"
      }
    },
    {
      "cell_type": "code",
      "source": [
        "test_loss, test_mae = model.evaluate(X_test_scaled, y_test)"
      ],
      "metadata": {
        "colab": {
          "base_uri": "https://localhost:8080/"
        },
        "id": "-Zszaaivi-J6",
        "outputId": "7e8a5115-9440-4e2b-f72c-5bc8f06b0800"
      },
      "execution_count": null,
      "outputs": [
        {
          "output_type": "stream",
          "name": "stdout",
          "text": [
            "230/230 [==============================] - 1s 2ms/step - loss: 823952504659116032.0000 - mae: 515475392.0000\n"
          ]
        }
      ]
    },
    {
      "cell_type": "markdown",
      "source": [
        "Predict using the model\n"
      ],
      "metadata": {
        "id": "TXBQiBS8jVAi"
      }
    },
    {
      "cell_type": "code",
      "source": [
        "predicted_prices = model.predict(X_test_scaled)"
      ],
      "metadata": {
        "colab": {
          "base_uri": "https://localhost:8080/"
        },
        "id": "IQK4KRI1i-HT",
        "outputId": "da4ad44d-85d0-44ed-db83-63f4595b3b66"
      },
      "execution_count": null,
      "outputs": [
        {
          "output_type": "stream",
          "name": "stdout",
          "text": [
            "230/230 [==============================] - 0s 1ms/step\n"
          ]
        }
      ]
    },
    {
      "cell_type": "markdown",
      "source": [
        " sample predictions"
      ],
      "metadata": {
        "id": "IqZ6smWajTEP"
      }
    },
    {
      "cell_type": "code",
      "source": [
        "for i in range(20):\n",
        "    print(f\"Actual price: {y_test[i]}, Predicted price: {predicted_prices[i][0]}\")"
      ],
      "metadata": {
        "colab": {
          "base_uri": "https://localhost:8080/"
        },
        "id": "_H1n2JP5i-Ey",
        "outputId": "3e877c3d-6bf5-42e1-c42a-ba1f0e87de18"
      },
      "execution_count": null,
      "outputs": [
        {
          "output_type": "stream",
          "name": "stdout",
          "text": [
            "Actual price: 810000000, Predicted price: 720425024.0\n",
            "Actual price: 3150000000, Predicted price: 1597583104.0\n",
            "Actual price: 550000000, Predicted price: 570075072.0\n",
            "Actual price: 588000000, Predicted price: 550208320.0\n",
            "Actual price: 580000000, Predicted price: 763094080.0\n",
            "Actual price: 440000000, Predicted price: 713523520.0\n",
            "Actual price: 385000000, Predicted price: 696555136.0\n",
            "Actual price: 385000000, Predicted price: 615768640.0\n",
            "Actual price: 580000000, Predicted price: 688727104.0\n",
            "Actual price: 1960000000, Predicted price: 716851904.0\n",
            "Actual price: 820000000, Predicted price: 642722240.0\n",
            "Actual price: 730000000, Predicted price: 593626048.0\n",
            "Actual price: 270000000, Predicted price: 765784832.0\n",
            "Actual price: 1030000000, Predicted price: 642373824.0\n",
            "Actual price: 905000000, Predicted price: 577095232.0\n",
            "Actual price: 6000000000, Predicted price: 1610768256.0\n",
            "Actual price: 770000000, Predicted price: 576138752.0\n",
            "Actual price: 570000000, Predicted price: 655539264.0\n",
            "Actual price: 260000000, Predicted price: 745725376.0\n",
            "Actual price: 604000000, Predicted price: 768112704.0\n"
          ]
        }
      ]
    },
    {
      "cell_type": "markdown",
      "source": [
        "visualize the training history"
      ],
      "metadata": {
        "id": "RYxA5PGYjNt0"
      }
    },
    {
      "cell_type": "code",
      "source": [
        "import matplotlib.pyplot as plt\n",
        "\n",
        "loss = history.history['loss']\n",
        "val_loss = history.history['val_loss']\n",
        "epochs = range(1, len(loss) + 1)\n",
        "\n",
        "plt.plot(epochs, loss, 'bo', label='Training loss')\n",
        "plt.plot(epochs, val_loss, 'b', label='Validation loss')\n",
        "plt.title('Training and validation loss')\n",
        "plt.xlabel('Epochs')\n",
        "plt.ylabel('Loss')\n",
        "plt.legend()\n",
        "plt.show()"
      ],
      "metadata": {
        "colab": {
          "base_uri": "https://localhost:8080/",
          "height": 472
        },
        "id": "sauKA_lRi-CK",
        "outputId": "ce2e75b2-091b-49d7-b684-e456feb55acc"
      },
      "execution_count": null,
      "outputs": [
        {
          "output_type": "display_data",
          "data": {
            "text/plain": [
              "<Figure size 640x480 with 1 Axes>"
            ],
            "image/png": "[encoded data removed]"
          },
          "metadata": {}
        }
      ]
    }
  ]
}